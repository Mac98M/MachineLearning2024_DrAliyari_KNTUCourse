{
  "nbformat": 4,
  "nbformat_minor": 0,
  "metadata": {
    "colab": {
      "provenance": []
    },
    "kernelspec": {
      "name": "python3",
      "display_name": "Python 3"
    },
    "language_info": {
      "name": "python"
    }
  },
  "cells": [
    {
      "cell_type": "markdown",
      "source": [
        "_Machine Learning Dr.Aliyari_\n",
        "\n",
        "\n",
        "**Masih Mokhtari**\n",
        "\n",
        "**40211454**\n",
        "****\n",
        "_mini project $2$_\n",
        "\n",
        "$Q2$"
      ],
      "metadata": {
        "id": "G9SwHTPbRd06"
      }
    },
    {
      "cell_type": "code",
      "execution_count": 91,
      "metadata": {
        "id": "8rAo0WyWRYsT"
      },
      "outputs": [],
      "source": [
        "import numpy as np\n",
        "import os\n",
        "import matplotlib.pyplot as plt\n",
        "import pandas as pd\n",
        "import tqdm\n",
        "import seaborn as sns\n",
        "\n",
        "%matplotlib inline\n",
        "\n",
        "from scipy.io import loadmat\n",
        "from scipy import stats\n",
        "\n",
        "from sklearn.model_selection import train_test_split\n",
        "from sklearn.preprocessing import StandardScaler\n",
        "\n",
        "from tensorflow.random import set_seed\n",
        "from tensorflow.keras.utils import set_random_seed\n",
        "from tensorflow.keras.layers import Input, Dense\n",
        "from tensorflow.keras.models import Model, Sequential, clone_model\n",
        "from tensorflow.keras.optimizers import Adam\n",
        "from tensorflow.keras.losses import SparseCategoricalCrossentropy\n",
        "\n",
        "from tensorflow.keras.utils import plot_model\n",
        "\n",
        "from sklearn.metrics import classification_report\n",
        "from sklearn.metrics import confusion_matrix\n",
        "\n",
        "from tensorflow.keras.utils import to_categorical\n",
        "from tensorflow.keras.losses import KLDivergence\n",
        "from tensorflow.keras.optimizers import SGD\n",
        "\n",
        "from sklearn.model_selection import KFold, StratifiedKFold\n",
        "\n",
        "set_seed(54)\n",
        "set_random_seed(54)"
      ]
    },
    {
      "cell_type": "code",
      "source": [
        "# Normal dataset\n",
        "!wget -q https://engineering.case.edu/sites/default/files/99.mat\n",
        "# Inner-Race-falut dataset\n",
        "!wget -q https://engineering.case.edu/sites/default/files/107.mat\n",
        "# Ball-falut dataset\n",
        "!wget -q https://engineering.case.edu/sites/default/files/120.mat\n",
        "# Outer-race-falut dataset\n",
        "!wget -q https://engineering.case.edu/sites/default/files/132.mat"
      ],
      "metadata": {
        "id": "hXE7nZXLUtU4"
      },
      "execution_count": 92,
      "outputs": []
    },
    {
      "cell_type": "code",
      "source": [
        "# Loading normal data\n",
        "data_n = loadmat('99.mat')\n",
        "cols_n = list(data_n.keys())[-4:]\n",
        "\n",
        "# Loading inner race fault data\n",
        "data_fi = loadmat('107.mat')\n",
        "cols_fi = list(data_fi.keys())[-4:-1]\n",
        "\n",
        "# Loading ball normal data\n",
        "data_fb = loadmat('120.mat')\n",
        "cols_fb = list(data_fb.keys())[-4:]\n",
        "\n",
        "# Loading outer race fault data\n",
        "data_fo = loadmat('132.mat')\n",
        "cols_fo = list(data_fo.keys())[-4:-1]"
      ],
      "metadata": {
        "id": "TqcFJYA6UwOy"
      },
      "execution_count": 93,
      "outputs": []
    },
    {
      "cell_type": "code",
      "source": [
        "print(f'normal data consists of {cols_n}', end='\\n\\n')\n",
        "print(f'inner race fault data consista of {cols_fi}', end='\\n\\n')\n",
        "print(f'ball fault data consists of {cols_fb}', end='\\n\\n')\n",
        "print(f'outer race fault data consists of {cols_fo}')"
      ],
      "metadata": {
        "colab": {
          "base_uri": "https://localhost:8080/"
        },
        "id": "1n_ivpCbUwM2",
        "outputId": "d89b6871-cba9-4123-c9d5-8c5a281af138"
      },
      "execution_count": 94,
      "outputs": [
        {
          "output_type": "stream",
          "name": "stdout",
          "text": [
            "normal data consists of ['X098_DE_time', 'X098_FE_time', 'X099_DE_time', 'X099_FE_time']\n",
            "\n",
            "inner race fault data consista of ['X107_DE_time', 'X107_FE_time', 'X107_BA_time']\n",
            "\n",
            "ball fault data consists of ['X120_DE_time', 'X120_FE_time', 'X120_BA_time', 'X120RPM']\n",
            "\n",
            "outer race fault data consists of ['X132_DE_time', 'X132_FE_time', 'X132_BA_time']\n"
          ]
        }
      ]
    },
    {
      "cell_type": "code",
      "source": [
        "# Choosing the right data\n",
        "data_n = data_n['X099_DE_time']\n",
        "data_fi = data_fi['X107_DE_time']\n",
        "data_fb = data_fb['X120_DE_time']\n",
        "data_fo = data_fo['X132_DE_time']"
      ],
      "metadata": {
        "id": "NaHbqZs5UwKB"
      },
      "execution_count": 95,
      "outputs": []
    },
    {
      "cell_type": "code",
      "source": [
        "M = 1000\n",
        "N = 200\n",
        "signals = {'normal': data_n, 'inner fault': data_fi,\n",
        "           'ball fault': data_fb, 'outter fault': data_fo}\n",
        "data_names = signals.keys()\n",
        "matrices = dict()\n",
        "for i,name in enumerate(data_names):\n",
        "\n",
        "    mat = np.zeros((M,N))\n",
        "    for j in range(M):\n",
        "\n",
        "        mat[j,:] = signals[name][j:j+N].reshape(-1,)\n",
        "    matrices[name] = mat"
      ],
      "metadata": {
        "id": "Sid9ZjqlUwHY"
      },
      "execution_count": 96,
      "outputs": []
    },
    {
      "cell_type": "code",
      "source": [
        "met_name = matrices.keys()\n",
        "for i, n in enumerate(met_name):\n",
        "\n",
        "    print(f'From {n} data, {matrices[n].shape[0]} signals with length of {matrices[n].shape[1]} are extracted')"
      ],
      "metadata": {
        "colab": {
          "base_uri": "https://localhost:8080/"
        },
        "id": "A5hHh9lPUwEp",
        "outputId": "056b9451-8466-40b5-fc7b-a367a48fb480"
      },
      "execution_count": 97,
      "outputs": [
        {
          "output_type": "stream",
          "name": "stdout",
          "text": [
            "From normal data, 1000 signals with length of 200 are extracted\n",
            "From inner fault data, 1000 signals with length of 200 are extracted\n",
            "From ball fault data, 1000 signals with length of 200 are extracted\n",
            "From outter fault data, 1000 signals with length of 200 are extracted\n"
          ]
        }
      ]
    },
    {
      "cell_type": "code",
      "source": [
        "# Class for calculating features\n",
        "class Features:\n",
        "\n",
        "    def __init__(self,matrix):\n",
        "        self.matrix = matrix\n",
        "        self._extract()\n",
        "\n",
        "    def _extract(self):\n",
        "\n",
        "        self.features = {\n",
        "            'standard deviation': stats.tstd(self.matrix, axis=1),\n",
        "            'peak': np.max(self.matrix, axis=1),\n",
        "            'skewness': stats.skew(self.matrix, axis=1),\n",
        "            'mean': np.mean(self.matrix, axis=1),\n",
        "            'absolute mean': np.mean(np.abs(self.matrix), axis=1),\n",
        "            'root mean square': np.sqrt(np.mean(np.square(self.matrix), axis=1)),\n",
        "            'square root mean': np.square(np.mean(np.sqrt(np.abs(self.matrix)), axis=1)),\n",
        "            'kurtosis': stats.kurtosis(self.matrix, axis=1),\n",
        "            'crest factor': np.max(self.matrix, axis=1) / np.sqrt(np.mean(np.square(self.matrix), axis=1)),\n",
        "            'clearance factor': np.max(self.matrix, axis=1) / np.square(np.mean(np.sqrt(np.abs(self.matrix)), axis=1)),\n",
        "            'peak to peak': np.max(self.matrix, axis=1) - np.min(self.matrix, axis=1),\n",
        "            'shape factor': np.sqrt(np.mean(np.square(self.matrix), axis=1)) / np.mean(np.abs(self.matrix), axis=1),\n",
        "            'impact factor': np.sqrt(np.mean(np.square(self.matrix), axis=1)) / np.mean(np.abs(self.matrix), axis=1),\n",
        "            'impulse factor': np.abs(np.mean(self.matrix, axis=1)) / np.mean(np.abs(self.matrix), axis=1)\n",
        "        }\n",
        "\n",
        "    def __getitem__(self,key):\n",
        "        return self.features[key]\n",
        "\n",
        "\n",
        "feature_dic = dict()\n",
        "for n in met_name:\n",
        "\n",
        "    feature_dic[n] = Features(matrices[n])"
      ],
      "metadata": {
        "id": "_P8QZMjBUwCY"
      },
      "execution_count": 98,
      "outputs": []
    },
    {
      "cell_type": "code",
      "source": [
        "data_frames = dict()\n",
        "for i,n in enumerate(met_name):\n",
        "\n",
        "    data_frames[n] = pd.DataFrame(feature_dic[n].features)\n",
        "    data_frames[n]['label'] = i\n",
        "    print(f'Label of \\'{n}\\' data is {i}')\n",
        "\n",
        "# Stacking both datasets\n",
        "df = pd.concat ([data_frames[n] for n in met_name], ignore_index=True)\n",
        "df.head()"
      ],
      "metadata": {
        "colab": {
          "base_uri": "https://localhost:8080/",
          "height": 310
        },
        "id": "CCkpZyFVUv_4",
        "outputId": "0b7599eb-72d8-43ed-c8f3-16e0d979a810"
      },
      "execution_count": 99,
      "outputs": [
        {
          "output_type": "stream",
          "name": "stdout",
          "text": [
            "Label of 'normal' data is 0\n",
            "Label of 'inner fault' data is 1\n",
            "Label of 'ball fault' data is 2\n",
            "Label of 'outter fault' data is 3\n"
          ]
        },
        {
          "output_type": "execute_result",
          "data": {
            "text/plain": [
              "   standard deviation      peak  skewness      mean  absolute mean  \\\n",
              "0            0.065162  0.179826 -0.102434  0.016275       0.051197   \n",
              "1            0.065124  0.179826 -0.101089  0.016218       0.051140   \n",
              "2            0.065046  0.179826 -0.095520  0.016050       0.050972   \n",
              "3            0.065087  0.179826 -0.092039  0.015959       0.051063   \n",
              "4            0.065158  0.179826 -0.091184  0.015882       0.051140   \n",
              "\n",
              "   root mean square  square root mean  kurtosis  crest factor  \\\n",
              "0          0.067005          0.041341  0.205579      2.683775   \n",
              "1          0.066955          0.041293  0.211600      2.685784   \n",
              "2          0.066839          0.041131  0.224659      2.690446   \n",
              "3          0.066857          0.041302  0.216531      2.689711   \n",
              "4          0.066907          0.041377  0.205829      2.687688   \n",
              "\n",
              "   clearance factor  peak to peak  shape factor  impact factor  \\\n",
              "0          4.349826      0.355481      1.308760       1.308760   \n",
              "1          4.354910      0.355481      1.309248       1.309248   \n",
              "2          4.371997      0.355481      1.311286       1.311286   \n",
              "3          4.353963      0.355481      1.309313       1.309313   \n",
              "4          4.346023      0.355481      1.308321       1.308321   \n",
              "\n",
              "   impulse factor  label  \n",
              "0        0.317890      0  \n",
              "1        0.317125      0  \n",
              "2        0.314875      0  \n",
              "3        0.312538      0  \n",
              "4        0.310557      0  "
            ],
            "text/html": [
              "\n",
              "  <div id=\"df-406a18f7-fd07-4a27-bc17-f2e0662073bd\" class=\"colab-df-container\">\n",
              "    <div>\n",
              "<style scoped>\n",
              "    .dataframe tbody tr th:only-of-type {\n",
              "        vertical-align: middle;\n",
              "    }\n",
              "\n",
              "    .dataframe tbody tr th {\n",
              "        vertical-align: top;\n",
              "    }\n",
              "\n",
              "    .dataframe thead th {\n",
              "        text-align: right;\n",
              "    }\n",
              "</style>\n",
              "<table border=\"1\" class=\"dataframe\">\n",
              "  <thead>\n",
              "    <tr style=\"text-align: right;\">\n",
              "      <th></th>\n",
              "      <th>standard deviation</th>\n",
              "      <th>peak</th>\n",
              "      <th>skewness</th>\n",
              "      <th>mean</th>\n",
              "      <th>absolute mean</th>\n",
              "      <th>root mean square</th>\n",
              "      <th>square root mean</th>\n",
              "      <th>kurtosis</th>\n",
              "      <th>crest factor</th>\n",
              "      <th>clearance factor</th>\n",
              "      <th>peak to peak</th>\n",
              "      <th>shape factor</th>\n",
              "      <th>impact factor</th>\n",
              "      <th>impulse factor</th>\n",
              "      <th>label</th>\n",
              "    </tr>\n",
              "  </thead>\n",
              "  <tbody>\n",
              "    <tr>\n",
              "      <th>0</th>\n",
              "      <td>0.065162</td>\n",
              "      <td>0.179826</td>\n",
              "      <td>-0.102434</td>\n",
              "      <td>0.016275</td>\n",
              "      <td>0.051197</td>\n",
              "      <td>0.067005</td>\n",
              "      <td>0.041341</td>\n",
              "      <td>0.205579</td>\n",
              "      <td>2.683775</td>\n",
              "      <td>4.349826</td>\n",
              "      <td>0.355481</td>\n",
              "      <td>1.308760</td>\n",
              "      <td>1.308760</td>\n",
              "      <td>0.317890</td>\n",
              "      <td>0</td>\n",
              "    </tr>\n",
              "    <tr>\n",
              "      <th>1</th>\n",
              "      <td>0.065124</td>\n",
              "      <td>0.179826</td>\n",
              "      <td>-0.101089</td>\n",
              "      <td>0.016218</td>\n",
              "      <td>0.051140</td>\n",
              "      <td>0.066955</td>\n",
              "      <td>0.041293</td>\n",
              "      <td>0.211600</td>\n",
              "      <td>2.685784</td>\n",
              "      <td>4.354910</td>\n",
              "      <td>0.355481</td>\n",
              "      <td>1.309248</td>\n",
              "      <td>1.309248</td>\n",
              "      <td>0.317125</td>\n",
              "      <td>0</td>\n",
              "    </tr>\n",
              "    <tr>\n",
              "      <th>2</th>\n",
              "      <td>0.065046</td>\n",
              "      <td>0.179826</td>\n",
              "      <td>-0.095520</td>\n",
              "      <td>0.016050</td>\n",
              "      <td>0.050972</td>\n",
              "      <td>0.066839</td>\n",
              "      <td>0.041131</td>\n",
              "      <td>0.224659</td>\n",
              "      <td>2.690446</td>\n",
              "      <td>4.371997</td>\n",
              "      <td>0.355481</td>\n",
              "      <td>1.311286</td>\n",
              "      <td>1.311286</td>\n",
              "      <td>0.314875</td>\n",
              "      <td>0</td>\n",
              "    </tr>\n",
              "    <tr>\n",
              "      <th>3</th>\n",
              "      <td>0.065087</td>\n",
              "      <td>0.179826</td>\n",
              "      <td>-0.092039</td>\n",
              "      <td>0.015959</td>\n",
              "      <td>0.051063</td>\n",
              "      <td>0.066857</td>\n",
              "      <td>0.041302</td>\n",
              "      <td>0.216531</td>\n",
              "      <td>2.689711</td>\n",
              "      <td>4.353963</td>\n",
              "      <td>0.355481</td>\n",
              "      <td>1.309313</td>\n",
              "      <td>1.309313</td>\n",
              "      <td>0.312538</td>\n",
              "      <td>0</td>\n",
              "    </tr>\n",
              "    <tr>\n",
              "      <th>4</th>\n",
              "      <td>0.065158</td>\n",
              "      <td>0.179826</td>\n",
              "      <td>-0.091184</td>\n",
              "      <td>0.015882</td>\n",
              "      <td>0.051140</td>\n",
              "      <td>0.066907</td>\n",
              "      <td>0.041377</td>\n",
              "      <td>0.205829</td>\n",
              "      <td>2.687688</td>\n",
              "      <td>4.346023</td>\n",
              "      <td>0.355481</td>\n",
              "      <td>1.308321</td>\n",
              "      <td>1.308321</td>\n",
              "      <td>0.310557</td>\n",
              "      <td>0</td>\n",
              "    </tr>\n",
              "  </tbody>\n",
              "</table>\n",
              "</div>\n",
              "    <div class=\"colab-df-buttons\">\n",
              "\n",
              "  <div class=\"colab-df-container\">\n",
              "    <button class=\"colab-df-convert\" onclick=\"convertToInteractive('df-406a18f7-fd07-4a27-bc17-f2e0662073bd')\"\n",
              "            title=\"Convert this dataframe to an interactive table.\"\n",
              "            style=\"display:none;\">\n",
              "\n",
              "  <svg xmlns=\"http://www.w3.org/2000/svg\" height=\"24px\" viewBox=\"0 -960 960 960\">\n",
              "    <path d=\"M120-120v-720h720v720H120Zm60-500h600v-160H180v160Zm220 220h160v-160H400v160Zm0 220h160v-160H400v160ZM180-400h160v-160H180v160Zm440 0h160v-160H620v160ZM180-180h160v-160H180v160Zm440 0h160v-160H620v160Z\"/>\n",
              "  </svg>\n",
              "    </button>\n",
              "\n",
              "  <style>\n",
              "    .colab-df-container {\n",
              "      display:flex;\n",
              "      gap: 12px;\n",
              "    }\n",
              "\n",
              "    .colab-df-convert {\n",
              "      background-color: #E8F0FE;\n",
              "      border: none;\n",
              "      border-radius: 50%;\n",
              "      cursor: pointer;\n",
              "      display: none;\n",
              "      fill: #1967D2;\n",
              "      height: 32px;\n",
              "      padding: 0 0 0 0;\n",
              "      width: 32px;\n",
              "    }\n",
              "\n",
              "    .colab-df-convert:hover {\n",
              "      background-color: #E2EBFA;\n",
              "      box-shadow: 0px 1px 2px rgba(60, 64, 67, 0.3), 0px 1px 3px 1px rgba(60, 64, 67, 0.15);\n",
              "      fill: #174EA6;\n",
              "    }\n",
              "\n",
              "    .colab-df-buttons div {\n",
              "      margin-bottom: 4px;\n",
              "    }\n",
              "\n",
              "    [theme=dark] .colab-df-convert {\n",
              "      background-color: #3B4455;\n",
              "      fill: #D2E3FC;\n",
              "    }\n",
              "\n",
              "    [theme=dark] .colab-df-convert:hover {\n",
              "      background-color: #434B5C;\n",
              "      box-shadow: 0px 1px 3px 1px rgba(0, 0, 0, 0.15);\n",
              "      filter: drop-shadow(0px 1px 2px rgba(0, 0, 0, 0.3));\n",
              "      fill: #FFFFFF;\n",
              "    }\n",
              "  </style>\n",
              "\n",
              "    <script>\n",
              "      const buttonEl =\n",
              "        document.querySelector('#df-406a18f7-fd07-4a27-bc17-f2e0662073bd button.colab-df-convert');\n",
              "      buttonEl.style.display =\n",
              "        google.colab.kernel.accessAllowed ? 'block' : 'none';\n",
              "\n",
              "      async function convertToInteractive(key) {\n",
              "        const element = document.querySelector('#df-406a18f7-fd07-4a27-bc17-f2e0662073bd');\n",
              "        const dataTable =\n",
              "          await google.colab.kernel.invokeFunction('convertToInteractive',\n",
              "                                                    [key], {});\n",
              "        if (!dataTable) return;\n",
              "\n",
              "        const docLinkHtml = 'Like what you see? Visit the ' +\n",
              "          '<a target=\"_blank\" href=https://colab.research.google.com/notebooks/data_table.ipynb>data table notebook</a>'\n",
              "          + ' to learn more about interactive tables.';\n",
              "        element.innerHTML = '';\n",
              "        dataTable['output_type'] = 'display_data';\n",
              "        await google.colab.output.renderOutput(dataTable, element);\n",
              "        const docLink = document.createElement('div');\n",
              "        docLink.innerHTML = docLinkHtml;\n",
              "        element.appendChild(docLink);\n",
              "      }\n",
              "    </script>\n",
              "  </div>\n",
              "\n",
              "\n",
              "<div id=\"df-3e0576d8-784c-4d7f-91c6-0ec10a29cc89\">\n",
              "  <button class=\"colab-df-quickchart\" onclick=\"quickchart('df-3e0576d8-784c-4d7f-91c6-0ec10a29cc89')\"\n",
              "            title=\"Suggest charts\"\n",
              "            style=\"display:none;\">\n",
              "\n",
              "<svg xmlns=\"http://www.w3.org/2000/svg\" height=\"24px\"viewBox=\"0 0 24 24\"\n",
              "     width=\"24px\">\n",
              "    <g>\n",
              "        <path d=\"M19 3H5c-1.1 0-2 .9-2 2v14c0 1.1.9 2 2 2h14c1.1 0 2-.9 2-2V5c0-1.1-.9-2-2-2zM9 17H7v-7h2v7zm4 0h-2V7h2v10zm4 0h-2v-4h2v4z\"/>\n",
              "    </g>\n",
              "</svg>\n",
              "  </button>\n",
              "\n",
              "<style>\n",
              "  .colab-df-quickchart {\n",
              "      --bg-color: #E8F0FE;\n",
              "      --fill-color: #1967D2;\n",
              "      --hover-bg-color: #E2EBFA;\n",
              "      --hover-fill-color: #174EA6;\n",
              "      --disabled-fill-color: #AAA;\n",
              "      --disabled-bg-color: #DDD;\n",
              "  }\n",
              "\n",
              "  [theme=dark] .colab-df-quickchart {\n",
              "      --bg-color: #3B4455;\n",
              "      --fill-color: #D2E3FC;\n",
              "      --hover-bg-color: #434B5C;\n",
              "      --hover-fill-color: #FFFFFF;\n",
              "      --disabled-bg-color: #3B4455;\n",
              "      --disabled-fill-color: #666;\n",
              "  }\n",
              "\n",
              "  .colab-df-quickchart {\n",
              "    background-color: var(--bg-color);\n",
              "    border: none;\n",
              "    border-radius: 50%;\n",
              "    cursor: pointer;\n",
              "    display: none;\n",
              "    fill: var(--fill-color);\n",
              "    height: 32px;\n",
              "    padding: 0;\n",
              "    width: 32px;\n",
              "  }\n",
              "\n",
              "  .colab-df-quickchart:hover {\n",
              "    background-color: var(--hover-bg-color);\n",
              "    box-shadow: 0 1px 2px rgba(60, 64, 67, 0.3), 0 1px 3px 1px rgba(60, 64, 67, 0.15);\n",
              "    fill: var(--button-hover-fill-color);\n",
              "  }\n",
              "\n",
              "  .colab-df-quickchart-complete:disabled,\n",
              "  .colab-df-quickchart-complete:disabled:hover {\n",
              "    background-color: var(--disabled-bg-color);\n",
              "    fill: var(--disabled-fill-color);\n",
              "    box-shadow: none;\n",
              "  }\n",
              "\n",
              "  .colab-df-spinner {\n",
              "    border: 2px solid var(--fill-color);\n",
              "    border-color: transparent;\n",
              "    border-bottom-color: var(--fill-color);\n",
              "    animation:\n",
              "      spin 1s steps(1) infinite;\n",
              "  }\n",
              "\n",
              "  @keyframes spin {\n",
              "    0% {\n",
              "      border-color: transparent;\n",
              "      border-bottom-color: var(--fill-color);\n",
              "      border-left-color: var(--fill-color);\n",
              "    }\n",
              "    20% {\n",
              "      border-color: transparent;\n",
              "      border-left-color: var(--fill-color);\n",
              "      border-top-color: var(--fill-color);\n",
              "    }\n",
              "    30% {\n",
              "      border-color: transparent;\n",
              "      border-left-color: var(--fill-color);\n",
              "      border-top-color: var(--fill-color);\n",
              "      border-right-color: var(--fill-color);\n",
              "    }\n",
              "    40% {\n",
              "      border-color: transparent;\n",
              "      border-right-color: var(--fill-color);\n",
              "      border-top-color: var(--fill-color);\n",
              "    }\n",
              "    60% {\n",
              "      border-color: transparent;\n",
              "      border-right-color: var(--fill-color);\n",
              "    }\n",
              "    80% {\n",
              "      border-color: transparent;\n",
              "      border-right-color: var(--fill-color);\n",
              "      border-bottom-color: var(--fill-color);\n",
              "    }\n",
              "    90% {\n",
              "      border-color: transparent;\n",
              "      border-bottom-color: var(--fill-color);\n",
              "    }\n",
              "  }\n",
              "</style>\n",
              "\n",
              "  <script>\n",
              "    async function quickchart(key) {\n",
              "      const quickchartButtonEl =\n",
              "        document.querySelector('#' + key + ' button');\n",
              "      quickchartButtonEl.disabled = true;  // To prevent multiple clicks.\n",
              "      quickchartButtonEl.classList.add('colab-df-spinner');\n",
              "      try {\n",
              "        const charts = await google.colab.kernel.invokeFunction(\n",
              "            'suggestCharts', [key], {});\n",
              "      } catch (error) {\n",
              "        console.error('Error during call to suggestCharts:', error);\n",
              "      }\n",
              "      quickchartButtonEl.classList.remove('colab-df-spinner');\n",
              "      quickchartButtonEl.classList.add('colab-df-quickchart-complete');\n",
              "    }\n",
              "    (() => {\n",
              "      let quickchartButtonEl =\n",
              "        document.querySelector('#df-3e0576d8-784c-4d7f-91c6-0ec10a29cc89 button');\n",
              "      quickchartButtonEl.style.display =\n",
              "        google.colab.kernel.accessAllowed ? 'block' : 'none';\n",
              "    })();\n",
              "  </script>\n",
              "</div>\n",
              "    </div>\n",
              "  </div>\n"
            ],
            "application/vnd.google.colaboratory.intrinsic+json": {
              "type": "dataframe",
              "variable_name": "df",
              "summary": "{\n  \"name\": \"df\",\n  \"rows\": 4000,\n  \"fields\": [\n    {\n      \"column\": \"standard deviation\",\n      \"properties\": {\n        \"dtype\": \"number\",\n        \"std\": 0.19304691763558704,\n        \"min\": 0.04317776676936148,\n        \"max\": 0.6817445163932714,\n        \"num_unique_values\": 3998,\n        \"samples\": [\n          0.2552342596848523,\n          0.58435945732141,\n          0.2940007068054895\n        ],\n        \"semantic_type\": \"\",\n        \"description\": \"\"\n      }\n    },\n    {\n      \"column\": \"peak\",\n      \"properties\": {\n        \"dtype\": \"number\",\n        \"std\": 0.789536949918469,\n        \"min\": 0.11494707692307692,\n        \"max\": 2.5104349301397204,\n        \"num_unique_values\": 53,\n        \"samples\": [\n          1.177167385229541,\n          1.9297293413173653,\n          1.9666833333333333\n        ],\n        \"semantic_type\": \"\",\n        \"description\": \"\"\n      }\n    },\n    {\n      \"column\": \"skewness\",\n      \"properties\": {\n        \"dtype\": \"number\",\n        \"std\": 0.18046555977486145,\n        \"min\": -0.518951050734958,\n        \"max\": 1.0263144217778255,\n        \"num_unique_values\": 4000,\n        \"samples\": [\n          -0.32422434119683163,\n          -0.0349118974941313,\n          -0.3884617133057554\n        ],\n        \"semantic_type\": \"\",\n        \"description\": \"\"\n      }\n    },\n    {\n      \"column\": \"mean\",\n      \"properties\": {\n        \"dtype\": \"number\",\n        \"std\": 0.005355306263421727,\n        \"min\": -0.005910608283433134,\n        \"max\": 0.02446954153846154,\n        \"num_unique_values\": 3938,\n        \"samples\": [\n          0.0015601894211576895,\n          0.006107215384615386,\n          0.007714044311377246\n        ],\n        \"semantic_type\": \"\",\n        \"description\": \"\"\n      }\n    },\n    {\n      \"column\": \"absolute mean\",\n      \"properties\": {\n        \"dtype\": \"number\",\n        \"std\": 0.11406270997893772,\n        \"min\": 0.037188821538461536,\n        \"max\": 0.434524124251497,\n        \"num_unique_values\": 3952,\n        \"samples\": [\n          0.3478893478043912,\n          0.11924444091816369,\n          0.13509973393213573\n        ],\n        \"semantic_type\": \"\",\n        \"description\": \"\"\n      }\n    },\n    {\n      \"column\": \"root mean square\",\n      \"properties\": {\n        \"dtype\": \"number\",\n        \"std\": 0.19204947254524513,\n        \"min\": 0.045585242196474536,\n        \"max\": 0.6800702133269055,\n        \"num_unique_values\": 3995,\n        \"samples\": [\n          0.2553654164216116,\n          0.6087328425641398,\n          0.2915236960528833\n        ],\n        \"semantic_type\": \"\",\n        \"description\": \"\"\n      }\n    },\n    {\n      \"column\": \"square root mean\",\n      \"properties\": {\n        \"dtype\": \"number\",\n        \"std\": 0.08005292677610835,\n        \"min\": 0.03197683962279343,\n        \"max\": 0.3159732969963217,\n        \"num_unique_values\": 3995,\n        \"samples\": [\n          0.14731763025440917,\n          0.2893217306661233,\n          0.15959541298579777\n        ],\n        \"semantic_type\": \"\",\n        \"description\": \"\"\n      }\n    },\n    {\n      \"column\": \"kurtosis\",\n      \"properties\": {\n        \"dtype\": \"number\",\n        \"std\": 2.080217423523894,\n        \"min\": -0.7903491141092713,\n        \"max\": 10.571623068802955,\n        \"num_unique_values\": 4000,\n        \"samples\": [\n          -0.11652308754942098,\n          3.589470685991559,\n          -0.2317761678032082\n        ],\n        \"semantic_type\": \"\",\n        \"description\": \"\"\n      }\n    },\n    {\n      \"column\": \"crest factor\",\n      \"properties\": {\n        \"dtype\": \"number\",\n        \"std\": 0.7365814355517281,\n        \"min\": 1.9973094710426658,\n        \"max\": 5.6149180249551,\n        \"num_unique_values\": 3994,\n        \"samples\": [\n          2.5917944910251713,\n          4.413019237106041,\n          3.84673717973212\n        ],\n        \"semantic_type\": \"\",\n        \"description\": \"\"\n      }\n    },\n    {\n      \"column\": \"clearance factor\",\n      \"properties\": {\n        \"dtype\": \"number\",\n        \"std\": 2.293922835708041,\n        \"min\": 2.6686839632031845,\n        \"max\": 13.042284275491156,\n        \"num_unique_values\": 3995,\n        \"samples\": [\n          6.9056990382481525,\n          7.614452056655489,\n          6.374438954930375\n        ],\n        \"semantic_type\": \"\",\n        \"description\": \"\"\n      }\n    },\n    {\n      \"column\": \"peak to peak\",\n      \"properties\": {\n        \"dtype\": \"number\",\n        \"std\": 1.634416644369112,\n        \"min\": 0.2046516923076923,\n        \"max\": 5.231223353293413,\n        \"num_unique_values\": 98,\n        \"samples\": [\n          0.6752428343313374,\n          2.05951500998004,\n          3.364437624750499\n        ],\n        \"semantic_type\": \"\",\n        \"description\": \"\"\n      }\n    },\n    {\n      \"column\": \"shape factor\",\n      \"properties\": {\n        \"dtype\": \"number\",\n        \"std\": 0.16493439202399895,\n        \"min\": 1.1768709961784507,\n        \"max\": 1.8547468479045057,\n        \"num_unique_values\": 3997,\n        \"samples\": [\n          1.3994697421575388,\n          1.5473042907412895,\n          1.4355889941089297\n        ],\n        \"semantic_type\": \"\",\n        \"description\": \"\"\n      }\n    },\n    {\n      \"column\": \"impact factor\",\n      \"properties\": {\n        \"dtype\": \"number\",\n        \"std\": 0.16493439202399895,\n        \"min\": 1.1768709961784507,\n        \"max\": 1.8547468479045057,\n        \"num_unique_values\": 3997,\n        \"samples\": [\n          1.3994697421575388,\n          1.5473042907412895,\n          1.4355889941089297\n        ],\n        \"semantic_type\": \"\",\n        \"description\": \"\"\n      }\n    },\n    {\n      \"column\": \"impulse factor\",\n      \"properties\": {\n        \"dtype\": \"number\",\n        \"std\": 0.1255393644702999,\n        \"min\": 6.004833891283884e-05,\n        \"max\": 0.4901075942755667,\n        \"num_unique_values\": 3997,\n        \"samples\": [\n          0.01915569112559695,\n          0.01274300065110222,\n          0.023835193683493305\n        ],\n        \"semantic_type\": \"\",\n        \"description\": \"\"\n      }\n    },\n    {\n      \"column\": \"label\",\n      \"properties\": {\n        \"dtype\": \"number\",\n        \"std\": 1,\n        \"min\": 0,\n        \"max\": 3,\n        \"num_unique_values\": 4,\n        \"samples\": [\n          1,\n          3,\n          0\n        ],\n        \"semantic_type\": \"\",\n        \"description\": \"\"\n      }\n    }\n  ]\n}"
            }
          },
          "metadata": {},
          "execution_count": 99
        }
      ]
    },
    {
      "cell_type": "code",
      "source": [
        "df"
      ],
      "metadata": {
        "colab": {
          "base_uri": "https://localhost:8080/",
          "height": 496
        },
        "id": "L9GTRK_uzR99",
        "outputId": "09e88699-6e6b-42c4-81f6-04982ffa2261"
      },
      "execution_count": 129,
      "outputs": [
        {
          "output_type": "execute_result",
          "data": {
            "text/plain": [
              "      standard deviation      peak  skewness      mean  absolute mean  \\\n",
              "0               0.065162  0.179826 -0.102434  0.016275       0.051197   \n",
              "1               0.065124  0.179826 -0.101089  0.016218       0.051140   \n",
              "2               0.065046  0.179826 -0.095520  0.016050       0.050972   \n",
              "3               0.065087  0.179826 -0.092039  0.015959       0.051063   \n",
              "4               0.065158  0.179826 -0.091184  0.015882       0.051140   \n",
              "...                  ...       ...       ...       ...            ...   \n",
              "3995            0.361072  1.493591 -0.402334 -0.000851       0.229624   \n",
              "3996            0.340611  1.493591  0.060083  0.007362       0.221411   \n",
              "3997            0.340800  1.493591  0.065958  0.006625       0.222148   \n",
              "3998            0.324060  1.167502 -0.344549 -0.000416       0.215107   \n",
              "3999            0.323762  1.167502 -0.360689  0.001482       0.214605   \n",
              "\n",
              "      root mean square  square root mean  kurtosis  crest factor  \\\n",
              "0             0.067005          0.041341  0.205579      2.683775   \n",
              "1             0.066955          0.041293  0.211600      2.685784   \n",
              "2             0.066839          0.041131  0.224659      2.690446   \n",
              "3             0.066857          0.041302  0.216531      2.689711   \n",
              "4             0.066907          0.041377  0.205829      2.687688   \n",
              "...                ...               ...       ...           ...   \n",
              "3995          0.360169          0.170415  5.361775      4.146917   \n",
              "3996          0.339839          0.165958  4.511978      4.395002   \n",
              "3997          0.340012          0.167239  4.496150      4.392766   \n",
              "3998          0.323249          0.163457  3.897550      3.611771   \n",
              "3999          0.322955          0.162988  3.929965      3.615066   \n",
              "\n",
              "      clearance factor  peak to peak  shape factor  impact factor  \\\n",
              "0             4.349826      0.355481      1.308760       1.308760   \n",
              "1             4.354910      0.355481      1.309248       1.309248   \n",
              "2             4.371997      0.355481      1.311286       1.311286   \n",
              "3             4.353963      0.355481      1.309313       1.309313   \n",
              "4             4.346023      0.355481      1.308321       1.308321   \n",
              "...                ...           ...           ...            ...   \n",
              "3995          8.764430      3.181292      1.568514       1.568514   \n",
              "3996          8.999806      2.857234      1.534875       1.534875   \n",
              "3997          8.930892      2.857234      1.530561       1.530561   \n",
              "3998          7.142579      2.531145      1.502739       1.502739   \n",
              "3999          7.163141      2.531145      1.504878       1.504878   \n",
              "\n",
              "      impulse factor  label  \n",
              "0           0.317890      0  \n",
              "1           0.317125      0  \n",
              "2           0.314875      0  \n",
              "3           0.312538      0  \n",
              "4           0.310557      0  \n",
              "...              ...    ...  \n",
              "3995        0.003705      3  \n",
              "3996        0.033252      3  \n",
              "3997        0.029824      3  \n",
              "3998        0.001935      3  \n",
              "3999        0.006907      3  \n",
              "\n",
              "[4000 rows x 15 columns]"
            ],
            "text/html": [
              "\n",
              "  <div id=\"df-675ddb8c-fc42-4dbf-b9dd-c4c73ca35c0c\" class=\"colab-df-container\">\n",
              "    <div>\n",
              "<style scoped>\n",
              "    .dataframe tbody tr th:only-of-type {\n",
              "        vertical-align: middle;\n",
              "    }\n",
              "\n",
              "    .dataframe tbody tr th {\n",
              "        vertical-align: top;\n",
              "    }\n",
              "\n",
              "    .dataframe thead th {\n",
              "        text-align: right;\n",
              "    }\n",
              "</style>\n",
              "<table border=\"1\" class=\"dataframe\">\n",
              "  <thead>\n",
              "    <tr style=\"text-align: right;\">\n",
              "      <th></th>\n",
              "      <th>standard deviation</th>\n",
              "      <th>peak</th>\n",
              "      <th>skewness</th>\n",
              "      <th>mean</th>\n",
              "      <th>absolute mean</th>\n",
              "      <th>root mean square</th>\n",
              "      <th>square root mean</th>\n",
              "      <th>kurtosis</th>\n",
              "      <th>crest factor</th>\n",
              "      <th>clearance factor</th>\n",
              "      <th>peak to peak</th>\n",
              "      <th>shape factor</th>\n",
              "      <th>impact factor</th>\n",
              "      <th>impulse factor</th>\n",
              "      <th>label</th>\n",
              "    </tr>\n",
              "  </thead>\n",
              "  <tbody>\n",
              "    <tr>\n",
              "      <th>0</th>\n",
              "      <td>0.065162</td>\n",
              "      <td>0.179826</td>\n",
              "      <td>-0.102434</td>\n",
              "      <td>0.016275</td>\n",
              "      <td>0.051197</td>\n",
              "      <td>0.067005</td>\n",
              "      <td>0.041341</td>\n",
              "      <td>0.205579</td>\n",
              "      <td>2.683775</td>\n",
              "      <td>4.349826</td>\n",
              "      <td>0.355481</td>\n",
              "      <td>1.308760</td>\n",
              "      <td>1.308760</td>\n",
              "      <td>0.317890</td>\n",
              "      <td>0</td>\n",
              "    </tr>\n",
              "    <tr>\n",
              "      <th>1</th>\n",
              "      <td>0.065124</td>\n",
              "      <td>0.179826</td>\n",
              "      <td>-0.101089</td>\n",
              "      <td>0.016218</td>\n",
              "      <td>0.051140</td>\n",
              "      <td>0.066955</td>\n",
              "      <td>0.041293</td>\n",
              "      <td>0.211600</td>\n",
              "      <td>2.685784</td>\n",
              "      <td>4.354910</td>\n",
              "      <td>0.355481</td>\n",
              "      <td>1.309248</td>\n",
              "      <td>1.309248</td>\n",
              "      <td>0.317125</td>\n",
              "      <td>0</td>\n",
              "    </tr>\n",
              "    <tr>\n",
              "      <th>2</th>\n",
              "      <td>0.065046</td>\n",
              "      <td>0.179826</td>\n",
              "      <td>-0.095520</td>\n",
              "      <td>0.016050</td>\n",
              "      <td>0.050972</td>\n",
              "      <td>0.066839</td>\n",
              "      <td>0.041131</td>\n",
              "      <td>0.224659</td>\n",
              "      <td>2.690446</td>\n",
              "      <td>4.371997</td>\n",
              "      <td>0.355481</td>\n",
              "      <td>1.311286</td>\n",
              "      <td>1.311286</td>\n",
              "      <td>0.314875</td>\n",
              "      <td>0</td>\n",
              "    </tr>\n",
              "    <tr>\n",
              "      <th>3</th>\n",
              "      <td>0.065087</td>\n",
              "      <td>0.179826</td>\n",
              "      <td>-0.092039</td>\n",
              "      <td>0.015959</td>\n",
              "      <td>0.051063</td>\n",
              "      <td>0.066857</td>\n",
              "      <td>0.041302</td>\n",
              "      <td>0.216531</td>\n",
              "      <td>2.689711</td>\n",
              "      <td>4.353963</td>\n",
              "      <td>0.355481</td>\n",
              "      <td>1.309313</td>\n",
              "      <td>1.309313</td>\n",
              "      <td>0.312538</td>\n",
              "      <td>0</td>\n",
              "    </tr>\n",
              "    <tr>\n",
              "      <th>4</th>\n",
              "      <td>0.065158</td>\n",
              "      <td>0.179826</td>\n",
              "      <td>-0.091184</td>\n",
              "      <td>0.015882</td>\n",
              "      <td>0.051140</td>\n",
              "      <td>0.066907</td>\n",
              "      <td>0.041377</td>\n",
              "      <td>0.205829</td>\n",
              "      <td>2.687688</td>\n",
              "      <td>4.346023</td>\n",
              "      <td>0.355481</td>\n",
              "      <td>1.308321</td>\n",
              "      <td>1.308321</td>\n",
              "      <td>0.310557</td>\n",
              "      <td>0</td>\n",
              "    </tr>\n",
              "    <tr>\n",
              "      <th>...</th>\n",
              "      <td>...</td>\n",
              "      <td>...</td>\n",
              "      <td>...</td>\n",
              "      <td>...</td>\n",
              "      <td>...</td>\n",
              "      <td>...</td>\n",
              "      <td>...</td>\n",
              "      <td>...</td>\n",
              "      <td>...</td>\n",
              "      <td>...</td>\n",
              "      <td>...</td>\n",
              "      <td>...</td>\n",
              "      <td>...</td>\n",
              "      <td>...</td>\n",
              "      <td>...</td>\n",
              "    </tr>\n",
              "    <tr>\n",
              "      <th>3995</th>\n",
              "      <td>0.361072</td>\n",
              "      <td>1.493591</td>\n",
              "      <td>-0.402334</td>\n",
              "      <td>-0.000851</td>\n",
              "      <td>0.229624</td>\n",
              "      <td>0.360169</td>\n",
              "      <td>0.170415</td>\n",
              "      <td>5.361775</td>\n",
              "      <td>4.146917</td>\n",
              "      <td>8.764430</td>\n",
              "      <td>3.181292</td>\n",
              "      <td>1.568514</td>\n",
              "      <td>1.568514</td>\n",
              "      <td>0.003705</td>\n",
              "      <td>3</td>\n",
              "    </tr>\n",
              "    <tr>\n",
              "      <th>3996</th>\n",
              "      <td>0.340611</td>\n",
              "      <td>1.493591</td>\n",
              "      <td>0.060083</td>\n",
              "      <td>0.007362</td>\n",
              "      <td>0.221411</td>\n",
              "      <td>0.339839</td>\n",
              "      <td>0.165958</td>\n",
              "      <td>4.511978</td>\n",
              "      <td>4.395002</td>\n",
              "      <td>8.999806</td>\n",
              "      <td>2.857234</td>\n",
              "      <td>1.534875</td>\n",
              "      <td>1.534875</td>\n",
              "      <td>0.033252</td>\n",
              "      <td>3</td>\n",
              "    </tr>\n",
              "    <tr>\n",
              "      <th>3997</th>\n",
              "      <td>0.340800</td>\n",
              "      <td>1.493591</td>\n",
              "      <td>0.065958</td>\n",
              "      <td>0.006625</td>\n",
              "      <td>0.222148</td>\n",
              "      <td>0.340012</td>\n",
              "      <td>0.167239</td>\n",
              "      <td>4.496150</td>\n",
              "      <td>4.392766</td>\n",
              "      <td>8.930892</td>\n",
              "      <td>2.857234</td>\n",
              "      <td>1.530561</td>\n",
              "      <td>1.530561</td>\n",
              "      <td>0.029824</td>\n",
              "      <td>3</td>\n",
              "    </tr>\n",
              "    <tr>\n",
              "      <th>3998</th>\n",
              "      <td>0.324060</td>\n",
              "      <td>1.167502</td>\n",
              "      <td>-0.344549</td>\n",
              "      <td>-0.000416</td>\n",
              "      <td>0.215107</td>\n",
              "      <td>0.323249</td>\n",
              "      <td>0.163457</td>\n",
              "      <td>3.897550</td>\n",
              "      <td>3.611771</td>\n",
              "      <td>7.142579</td>\n",
              "      <td>2.531145</td>\n",
              "      <td>1.502739</td>\n",
              "      <td>1.502739</td>\n",
              "      <td>0.001935</td>\n",
              "      <td>3</td>\n",
              "    </tr>\n",
              "    <tr>\n",
              "      <th>3999</th>\n",
              "      <td>0.323762</td>\n",
              "      <td>1.167502</td>\n",
              "      <td>-0.360689</td>\n",
              "      <td>0.001482</td>\n",
              "      <td>0.214605</td>\n",
              "      <td>0.322955</td>\n",
              "      <td>0.162988</td>\n",
              "      <td>3.929965</td>\n",
              "      <td>3.615066</td>\n",
              "      <td>7.163141</td>\n",
              "      <td>2.531145</td>\n",
              "      <td>1.504878</td>\n",
              "      <td>1.504878</td>\n",
              "      <td>0.006907</td>\n",
              "      <td>3</td>\n",
              "    </tr>\n",
              "  </tbody>\n",
              "</table>\n",
              "<p>4000 rows × 15 columns</p>\n",
              "</div>\n",
              "    <div class=\"colab-df-buttons\">\n",
              "\n",
              "  <div class=\"colab-df-container\">\n",
              "    <button class=\"colab-df-convert\" onclick=\"convertToInteractive('df-675ddb8c-fc42-4dbf-b9dd-c4c73ca35c0c')\"\n",
              "            title=\"Convert this dataframe to an interactive table.\"\n",
              "            style=\"display:none;\">\n",
              "\n",
              "  <svg xmlns=\"http://www.w3.org/2000/svg\" height=\"24px\" viewBox=\"0 -960 960 960\">\n",
              "    <path d=\"M120-120v-720h720v720H120Zm60-500h600v-160H180v160Zm220 220h160v-160H400v160Zm0 220h160v-160H400v160ZM180-400h160v-160H180v160Zm440 0h160v-160H620v160ZM180-180h160v-160H180v160Zm440 0h160v-160H620v160Z\"/>\n",
              "  </svg>\n",
              "    </button>\n",
              "\n",
              "  <style>\n",
              "    .colab-df-container {\n",
              "      display:flex;\n",
              "      gap: 12px;\n",
              "    }\n",
              "\n",
              "    .colab-df-convert {\n",
              "      background-color: #E8F0FE;\n",
              "      border: none;\n",
              "      border-radius: 50%;\n",
              "      cursor: pointer;\n",
              "      display: none;\n",
              "      fill: #1967D2;\n",
              "      height: 32px;\n",
              "      padding: 0 0 0 0;\n",
              "      width: 32px;\n",
              "    }\n",
              "\n",
              "    .colab-df-convert:hover {\n",
              "      background-color: #E2EBFA;\n",
              "      box-shadow: 0px 1px 2px rgba(60, 64, 67, 0.3), 0px 1px 3px 1px rgba(60, 64, 67, 0.15);\n",
              "      fill: #174EA6;\n",
              "    }\n",
              "\n",
              "    .colab-df-buttons div {\n",
              "      margin-bottom: 4px;\n",
              "    }\n",
              "\n",
              "    [theme=dark] .colab-df-convert {\n",
              "      background-color: #3B4455;\n",
              "      fill: #D2E3FC;\n",
              "    }\n",
              "\n",
              "    [theme=dark] .colab-df-convert:hover {\n",
              "      background-color: #434B5C;\n",
              "      box-shadow: 0px 1px 3px 1px rgba(0, 0, 0, 0.15);\n",
              "      filter: drop-shadow(0px 1px 2px rgba(0, 0, 0, 0.3));\n",
              "      fill: #FFFFFF;\n",
              "    }\n",
              "  </style>\n",
              "\n",
              "    <script>\n",
              "      const buttonEl =\n",
              "        document.querySelector('#df-675ddb8c-fc42-4dbf-b9dd-c4c73ca35c0c button.colab-df-convert');\n",
              "      buttonEl.style.display =\n",
              "        google.colab.kernel.accessAllowed ? 'block' : 'none';\n",
              "\n",
              "      async function convertToInteractive(key) {\n",
              "        const element = document.querySelector('#df-675ddb8c-fc42-4dbf-b9dd-c4c73ca35c0c');\n",
              "        const dataTable =\n",
              "          await google.colab.kernel.invokeFunction('convertToInteractive',\n",
              "                                                    [key], {});\n",
              "        if (!dataTable) return;\n",
              "\n",
              "        const docLinkHtml = 'Like what you see? Visit the ' +\n",
              "          '<a target=\"_blank\" href=https://colab.research.google.com/notebooks/data_table.ipynb>data table notebook</a>'\n",
              "          + ' to learn more about interactive tables.';\n",
              "        element.innerHTML = '';\n",
              "        dataTable['output_type'] = 'display_data';\n",
              "        await google.colab.output.renderOutput(dataTable, element);\n",
              "        const docLink = document.createElement('div');\n",
              "        docLink.innerHTML = docLinkHtml;\n",
              "        element.appendChild(docLink);\n",
              "      }\n",
              "    </script>\n",
              "  </div>\n",
              "\n",
              "\n",
              "<div id=\"df-5339b364-b308-448e-bb2a-d4dffbe4facf\">\n",
              "  <button class=\"colab-df-quickchart\" onclick=\"quickchart('df-5339b364-b308-448e-bb2a-d4dffbe4facf')\"\n",
              "            title=\"Suggest charts\"\n",
              "            style=\"display:none;\">\n",
              "\n",
              "<svg xmlns=\"http://www.w3.org/2000/svg\" height=\"24px\"viewBox=\"0 0 24 24\"\n",
              "     width=\"24px\">\n",
              "    <g>\n",
              "        <path d=\"M19 3H5c-1.1 0-2 .9-2 2v14c0 1.1.9 2 2 2h14c1.1 0 2-.9 2-2V5c0-1.1-.9-2-2-2zM9 17H7v-7h2v7zm4 0h-2V7h2v10zm4 0h-2v-4h2v4z\"/>\n",
              "    </g>\n",
              "</svg>\n",
              "  </button>\n",
              "\n",
              "<style>\n",
              "  .colab-df-quickchart {\n",
              "      --bg-color: #E8F0FE;\n",
              "      --fill-color: #1967D2;\n",
              "      --hover-bg-color: #E2EBFA;\n",
              "      --hover-fill-color: #174EA6;\n",
              "      --disabled-fill-color: #AAA;\n",
              "      --disabled-bg-color: #DDD;\n",
              "  }\n",
              "\n",
              "  [theme=dark] .colab-df-quickchart {\n",
              "      --bg-color: #3B4455;\n",
              "      --fill-color: #D2E3FC;\n",
              "      --hover-bg-color: #434B5C;\n",
              "      --hover-fill-color: #FFFFFF;\n",
              "      --disabled-bg-color: #3B4455;\n",
              "      --disabled-fill-color: #666;\n",
              "  }\n",
              "\n",
              "  .colab-df-quickchart {\n",
              "    background-color: var(--bg-color);\n",
              "    border: none;\n",
              "    border-radius: 50%;\n",
              "    cursor: pointer;\n",
              "    display: none;\n",
              "    fill: var(--fill-color);\n",
              "    height: 32px;\n",
              "    padding: 0;\n",
              "    width: 32px;\n",
              "  }\n",
              "\n",
              "  .colab-df-quickchart:hover {\n",
              "    background-color: var(--hover-bg-color);\n",
              "    box-shadow: 0 1px 2px rgba(60, 64, 67, 0.3), 0 1px 3px 1px rgba(60, 64, 67, 0.15);\n",
              "    fill: var(--button-hover-fill-color);\n",
              "  }\n",
              "\n",
              "  .colab-df-quickchart-complete:disabled,\n",
              "  .colab-df-quickchart-complete:disabled:hover {\n",
              "    background-color: var(--disabled-bg-color);\n",
              "    fill: var(--disabled-fill-color);\n",
              "    box-shadow: none;\n",
              "  }\n",
              "\n",
              "  .colab-df-spinner {\n",
              "    border: 2px solid var(--fill-color);\n",
              "    border-color: transparent;\n",
              "    border-bottom-color: var(--fill-color);\n",
              "    animation:\n",
              "      spin 1s steps(1) infinite;\n",
              "  }\n",
              "\n",
              "  @keyframes spin {\n",
              "    0% {\n",
              "      border-color: transparent;\n",
              "      border-bottom-color: var(--fill-color);\n",
              "      border-left-color: var(--fill-color);\n",
              "    }\n",
              "    20% {\n",
              "      border-color: transparent;\n",
              "      border-left-color: var(--fill-color);\n",
              "      border-top-color: var(--fill-color);\n",
              "    }\n",
              "    30% {\n",
              "      border-color: transparent;\n",
              "      border-left-color: var(--fill-color);\n",
              "      border-top-color: var(--fill-color);\n",
              "      border-right-color: var(--fill-color);\n",
              "    }\n",
              "    40% {\n",
              "      border-color: transparent;\n",
              "      border-right-color: var(--fill-color);\n",
              "      border-top-color: var(--fill-color);\n",
              "    }\n",
              "    60% {\n",
              "      border-color: transparent;\n",
              "      border-right-color: var(--fill-color);\n",
              "    }\n",
              "    80% {\n",
              "      border-color: transparent;\n",
              "      border-right-color: var(--fill-color);\n",
              "      border-bottom-color: var(--fill-color);\n",
              "    }\n",
              "    90% {\n",
              "      border-color: transparent;\n",
              "      border-bottom-color: var(--fill-color);\n",
              "    }\n",
              "  }\n",
              "</style>\n",
              "\n",
              "  <script>\n",
              "    async function quickchart(key) {\n",
              "      const quickchartButtonEl =\n",
              "        document.querySelector('#' + key + ' button');\n",
              "      quickchartButtonEl.disabled = true;  // To prevent multiple clicks.\n",
              "      quickchartButtonEl.classList.add('colab-df-spinner');\n",
              "      try {\n",
              "        const charts = await google.colab.kernel.invokeFunction(\n",
              "            'suggestCharts', [key], {});\n",
              "      } catch (error) {\n",
              "        console.error('Error during call to suggestCharts:', error);\n",
              "      }\n",
              "      quickchartButtonEl.classList.remove('colab-df-spinner');\n",
              "      quickchartButtonEl.classList.add('colab-df-quickchart-complete');\n",
              "    }\n",
              "    (() => {\n",
              "      let quickchartButtonEl =\n",
              "        document.querySelector('#df-5339b364-b308-448e-bb2a-d4dffbe4facf button');\n",
              "      quickchartButtonEl.style.display =\n",
              "        google.colab.kernel.accessAllowed ? 'block' : 'none';\n",
              "    })();\n",
              "  </script>\n",
              "</div>\n",
              "    </div>\n",
              "  </div>\n"
            ],
            "application/vnd.google.colaboratory.intrinsic+json": {
              "type": "dataframe",
              "variable_name": "df",
              "summary": "{\n  \"name\": \"df\",\n  \"rows\": 4000,\n  \"fields\": [\n    {\n      \"column\": \"standard deviation\",\n      \"properties\": {\n        \"dtype\": \"number\",\n        \"std\": 0.19304691763558704,\n        \"min\": 0.04317776676936148,\n        \"max\": 0.6817445163932714,\n        \"num_unique_values\": 3998,\n        \"samples\": [\n          0.2552342596848523,\n          0.58435945732141,\n          0.2940007068054895\n        ],\n        \"semantic_type\": \"\",\n        \"description\": \"\"\n      }\n    },\n    {\n      \"column\": \"peak\",\n      \"properties\": {\n        \"dtype\": \"number\",\n        \"std\": 0.789536949918469,\n        \"min\": 0.11494707692307692,\n        \"max\": 2.5104349301397204,\n        \"num_unique_values\": 53,\n        \"samples\": [\n          1.177167385229541,\n          1.9297293413173653,\n          1.9666833333333333\n        ],\n        \"semantic_type\": \"\",\n        \"description\": \"\"\n      }\n    },\n    {\n      \"column\": \"skewness\",\n      \"properties\": {\n        \"dtype\": \"number\",\n        \"std\": 0.18046555977486145,\n        \"min\": -0.518951050734958,\n        \"max\": 1.0263144217778255,\n        \"num_unique_values\": 4000,\n        \"samples\": [\n          -0.32422434119683163,\n          -0.0349118974941313,\n          -0.3884617133057554\n        ],\n        \"semantic_type\": \"\",\n        \"description\": \"\"\n      }\n    },\n    {\n      \"column\": \"mean\",\n      \"properties\": {\n        \"dtype\": \"number\",\n        \"std\": 0.005355306263421727,\n        \"min\": -0.005910608283433134,\n        \"max\": 0.02446954153846154,\n        \"num_unique_values\": 3938,\n        \"samples\": [\n          0.0015601894211576895,\n          0.006107215384615386,\n          0.007714044311377246\n        ],\n        \"semantic_type\": \"\",\n        \"description\": \"\"\n      }\n    },\n    {\n      \"column\": \"absolute mean\",\n      \"properties\": {\n        \"dtype\": \"number\",\n        \"std\": 0.11406270997893772,\n        \"min\": 0.037188821538461536,\n        \"max\": 0.434524124251497,\n        \"num_unique_values\": 3952,\n        \"samples\": [\n          0.3478893478043912,\n          0.11924444091816369,\n          0.13509973393213573\n        ],\n        \"semantic_type\": \"\",\n        \"description\": \"\"\n      }\n    },\n    {\n      \"column\": \"root mean square\",\n      \"properties\": {\n        \"dtype\": \"number\",\n        \"std\": 0.19204947254524513,\n        \"min\": 0.045585242196474536,\n        \"max\": 0.6800702133269055,\n        \"num_unique_values\": 3995,\n        \"samples\": [\n          0.2553654164216116,\n          0.6087328425641398,\n          0.2915236960528833\n        ],\n        \"semantic_type\": \"\",\n        \"description\": \"\"\n      }\n    },\n    {\n      \"column\": \"square root mean\",\n      \"properties\": {\n        \"dtype\": \"number\",\n        \"std\": 0.08005292677610835,\n        \"min\": 0.03197683962279343,\n        \"max\": 0.3159732969963217,\n        \"num_unique_values\": 3995,\n        \"samples\": [\n          0.14731763025440917,\n          0.2893217306661233,\n          0.15959541298579777\n        ],\n        \"semantic_type\": \"\",\n        \"description\": \"\"\n      }\n    },\n    {\n      \"column\": \"kurtosis\",\n      \"properties\": {\n        \"dtype\": \"number\",\n        \"std\": 2.080217423523894,\n        \"min\": -0.7903491141092713,\n        \"max\": 10.571623068802955,\n        \"num_unique_values\": 4000,\n        \"samples\": [\n          -0.11652308754942098,\n          3.589470685991559,\n          -0.2317761678032082\n        ],\n        \"semantic_type\": \"\",\n        \"description\": \"\"\n      }\n    },\n    {\n      \"column\": \"crest factor\",\n      \"properties\": {\n        \"dtype\": \"number\",\n        \"std\": 0.7365814355517281,\n        \"min\": 1.9973094710426658,\n        \"max\": 5.6149180249551,\n        \"num_unique_values\": 3994,\n        \"samples\": [\n          2.5917944910251713,\n          4.413019237106041,\n          3.84673717973212\n        ],\n        \"semantic_type\": \"\",\n        \"description\": \"\"\n      }\n    },\n    {\n      \"column\": \"clearance factor\",\n      \"properties\": {\n        \"dtype\": \"number\",\n        \"std\": 2.293922835708041,\n        \"min\": 2.6686839632031845,\n        \"max\": 13.042284275491156,\n        \"num_unique_values\": 3995,\n        \"samples\": [\n          6.9056990382481525,\n          7.614452056655489,\n          6.374438954930375\n        ],\n        \"semantic_type\": \"\",\n        \"description\": \"\"\n      }\n    },\n    {\n      \"column\": \"peak to peak\",\n      \"properties\": {\n        \"dtype\": \"number\",\n        \"std\": 1.634416644369112,\n        \"min\": 0.2046516923076923,\n        \"max\": 5.231223353293413,\n        \"num_unique_values\": 98,\n        \"samples\": [\n          0.6752428343313374,\n          2.05951500998004,\n          3.364437624750499\n        ],\n        \"semantic_type\": \"\",\n        \"description\": \"\"\n      }\n    },\n    {\n      \"column\": \"shape factor\",\n      \"properties\": {\n        \"dtype\": \"number\",\n        \"std\": 0.16493439202399895,\n        \"min\": 1.1768709961784507,\n        \"max\": 1.8547468479045057,\n        \"num_unique_values\": 3997,\n        \"samples\": [\n          1.3994697421575388,\n          1.5473042907412895,\n          1.4355889941089297\n        ],\n        \"semantic_type\": \"\",\n        \"description\": \"\"\n      }\n    },\n    {\n      \"column\": \"impact factor\",\n      \"properties\": {\n        \"dtype\": \"number\",\n        \"std\": 0.16493439202399895,\n        \"min\": 1.1768709961784507,\n        \"max\": 1.8547468479045057,\n        \"num_unique_values\": 3997,\n        \"samples\": [\n          1.3994697421575388,\n          1.5473042907412895,\n          1.4355889941089297\n        ],\n        \"semantic_type\": \"\",\n        \"description\": \"\"\n      }\n    },\n    {\n      \"column\": \"impulse factor\",\n      \"properties\": {\n        \"dtype\": \"number\",\n        \"std\": 0.1255393644702999,\n        \"min\": 6.004833891283884e-05,\n        \"max\": 0.4901075942755667,\n        \"num_unique_values\": 3997,\n        \"samples\": [\n          0.01915569112559695,\n          0.01274300065110222,\n          0.023835193683493305\n        ],\n        \"semantic_type\": \"\",\n        \"description\": \"\"\n      }\n    },\n    {\n      \"column\": \"label\",\n      \"properties\": {\n        \"dtype\": \"number\",\n        \"std\": 1,\n        \"min\": 0,\n        \"max\": 3,\n        \"num_unique_values\": 4,\n        \"samples\": [\n          1,\n          3,\n          0\n        ],\n        \"semantic_type\": \"\",\n        \"description\": \"\"\n      }\n    }\n  ]\n}"
            }
          },
          "metadata": {},
          "execution_count": 129
        }
      ]
    },
    {
      "cell_type": "code",
      "source": [
        "x_test = np.zeros(shape=(99*4,14))\n",
        "y_test = np.zeros(shape=(99*4,))\n",
        "y_train = np.zeros(shape=((1000-99)*4,))\n",
        "x_train = np.zeros(shape=((1000-99)*4,14))\n",
        "for i in range(4):\n",
        "\n",
        "    x_test[99*(i):99*(i+1),:] = df.drop('label', axis=1, inplace=False).values[ df.label.values==i][-100:-1]\n",
        "    y_test[99*(i):99*(i+1)] = df.label.values[ df.label.values==i][-100:-1]\n",
        "    y_train[(1000-99)*(i):(1000-99)*(i+1)] = np.ones(shape=(1000-99,))*i\n",
        "    x_train[(1000-99)*(i):(1000-99)*(i+1),:] = df.drop('label', axis=1, inplace=False).values[ df.label.values==i][:-99]"
      ],
      "metadata": {
        "id": "qyDv4_tBVGT5"
      },
      "execution_count": 100,
      "outputs": []
    },
    {
      "cell_type": "code",
      "source": [
        "x_train.shape[0] + x_test.shape[0]"
      ],
      "metadata": {
        "colab": {
          "base_uri": "https://localhost:8080/"
        },
        "id": "Yp3TZ6l2Uv9Z",
        "outputId": "07ba7a6c-782f-414c-f185-fbf85ed48982"
      },
      "execution_count": 101,
      "outputs": [
        {
          "output_type": "execute_result",
          "data": {
            "text/plain": [
              "4000"
            ]
          },
          "metadata": {},
          "execution_count": 101
        }
      ]
    },
    {
      "cell_type": "code",
      "source": [
        "# Trian & Test split\n",
        "# x_train, x_test, y_train, y_test = train_test_split(\n",
        "#     df.drop('label', axis=1, inplace=False).values,\n",
        "#     df.label.values,\n",
        "#     test_size = 0.15,\n",
        "#     shuffle = False,\n",
        "#     random_state = 54\n",
        "# )\n",
        "\n",
        "# Train & Validation split\n",
        "x_train, x_val, y_train, y_val = train_test_split(\n",
        "    x_train,\n",
        "    y_train,\n",
        "    test_size = .15,\n",
        "    random_state = 54,\n",
        "    shuffle = True\n",
        ")\n",
        "\n",
        "\n",
        "print(f'Size of Train data is:\\nX --> {x_train.shape}\\ny --> {y_train.shape}')\n",
        "print(f'Size of Validation data is:\\nX --> {x_val.shape}\\ny --> {y_val.shape}')\n",
        "print(f'Size of Test data is:\\nX --> {x_test.shape}\\ny --> {y_test.shape}')"
      ],
      "metadata": {
        "colab": {
          "base_uri": "https://localhost:8080/"
        },
        "id": "_tmbzdKyVGPw",
        "outputId": "d03dd916-15e9-4805-fcc1-d9d35290e747"
      },
      "execution_count": 102,
      "outputs": [
        {
          "output_type": "stream",
          "name": "stdout",
          "text": [
            "Size of Train data is:\n",
            "X --> (3063, 14)\n",
            "y --> (3063,)\n",
            "Size of Validation data is:\n",
            "X --> (541, 14)\n",
            "y --> (541,)\n",
            "Size of Test data is:\n",
            "X --> (396, 14)\n",
            "y --> (396,)\n"
          ]
        }
      ]
    },
    {
      "cell_type": "code",
      "source": [
        "scaler = StandardScaler()\n",
        "scaler.fit(x_train)\n",
        "\n",
        "# Scaling all datasets\n",
        "x_train_scaled = scaler.transform(x_train)\n",
        "x_val_scaled = scaler.transform(x_val)\n",
        "x_test_scaled = scaler.transform(x_test)"
      ],
      "metadata": {
        "id": "IJidRKo7VGNQ"
      },
      "execution_count": 103,
      "outputs": []
    },
    {
      "cell_type": "markdown",
      "source": [
        "## MLP"
      ],
      "metadata": {
        "id": "tHfPyvVuVWqp"
      }
    },
    {
      "cell_type": "code",
      "source": [
        "mlp_model = Sequential(\n",
        "    [\n",
        "        Input(shape=(14,), name='Input'),\n",
        "        Dense(units=12, activation='relu', name='Hidden_1'),\n",
        "        Dense(units=8, activation='relu', name='Hidden_2'),\n",
        "        Dense(units=4, activation='softmax', name='Classification')\n",
        "    ]\n",
        ")\n",
        "\n",
        "# making a copy from the model for next part\n",
        "mlp_model_1 = clone_model(mlp_model)\n",
        "\n",
        "mlp_model.summary()"
      ],
      "metadata": {
        "colab": {
          "base_uri": "https://localhost:8080/"
        },
        "id": "_bu2ndYHVGK4",
        "outputId": "0a998479-6123-40f0-a205-0020ed2b6c28"
      },
      "execution_count": 104,
      "outputs": [
        {
          "output_type": "stream",
          "name": "stdout",
          "text": [
            "Model: \"sequential_12\"\n",
            "_________________________________________________________________\n",
            " Layer (type)                Output Shape              Param #   \n",
            "=================================================================\n",
            " Hidden_1 (Dense)            (None, 12)                180       \n",
            "                                                                 \n",
            " Hidden_2 (Dense)            (None, 8)                 104       \n",
            "                                                                 \n",
            " Classification (Dense)      (None, 4)                 36        \n",
            "                                                                 \n",
            "=================================================================\n",
            "Total params: 320 (1.25 KB)\n",
            "Trainable params: 320 (1.25 KB)\n",
            "Non-trainable params: 0 (0.00 Byte)\n",
            "_________________________________________________________________\n"
          ]
        }
      ]
    },
    {
      "cell_type": "code",
      "source": [
        "plot_model(mlp_model, show_shapes=True)"
      ],
      "metadata": {
        "colab": {
          "base_uri": "https://localhost:8080/",
          "height": 422
        },
        "id": "hMauYbX-VGIQ",
        "outputId": "fd551c7d-1689-4cac-fc28-2ecdbbc603e8"
      },
      "execution_count": 105,
      "outputs": [
        {
          "output_type": "execute_result",
          "data": {
            "image/png": "[encoded data removed]",
            "text/plain": [
              "<IPython.core.display.Image object>"
            ]
          },
          "metadata": {},
          "execution_count": 105
        }
      ]
    },
    {
      "cell_type": "code",
      "source": [
        "loss_fn = SparseCategoricalCrossentropy()\n",
        "optim_fn = Adam(learning_rate=0.001)\n",
        "mlp_model.compile(optimizer=optim_fn, loss=loss_fn, metrics=['acc'])"
      ],
      "metadata": {
        "id": "GCBP0asLVGFo"
      },
      "execution_count": 106,
      "outputs": []
    },
    {
      "cell_type": "code",
      "source": [
        "mlp_history = mlp_model.fit(\n",
        "    x_train_scaled,\n",
        "    y_train,\n",
        "    batch_size = 16,\n",
        "    epochs = 20,\n",
        "    validation_data = (x_val_scaled, y_val)\n",
        ")"
      ],
      "metadata": {
        "colab": {
          "base_uri": "https://localhost:8080/"
        },
        "id": "_B5shyeCVf-Y",
        "outputId": "fc2760a1-94ee-4e4b-b6e2-87afdb290863"
      },
      "execution_count": 107,
      "outputs": [
        {
          "output_type": "stream",
          "name": "stdout",
          "text": [
            "Epoch 1/20\n",
            "192/192 [==============================] - 2s 3ms/step - loss: 0.7983 - acc: 0.7120 - val_loss: 0.4623 - val_acc: 0.8558\n",
            "Epoch 2/20\n",
            "192/192 [==============================] - 0s 2ms/step - loss: 0.2505 - acc: 0.9709 - val_loss: 0.1050 - val_acc: 0.9815\n",
            "Epoch 3/20\n",
            "192/192 [==============================] - 0s 2ms/step - loss: 0.0686 - acc: 0.9909 - val_loss: 0.0434 - val_acc: 0.9945\n",
            "Epoch 4/20\n",
            "192/192 [==============================] - 0s 2ms/step - loss: 0.0338 - acc: 0.9967 - val_loss: 0.0243 - val_acc: 0.9963\n",
            "Epoch 5/20\n",
            "192/192 [==============================] - 0s 2ms/step - loss: 0.0213 - acc: 0.9980 - val_loss: 0.0152 - val_acc: 0.9982\n",
            "Epoch 6/20\n",
            "192/192 [==============================] - 0s 2ms/step - loss: 0.0147 - acc: 0.9980 - val_loss: 0.0103 - val_acc: 1.0000\n",
            "Epoch 7/20\n",
            "192/192 [==============================] - 0s 2ms/step - loss: 0.0099 - acc: 0.9993 - val_loss: 0.0090 - val_acc: 1.0000\n",
            "Epoch 8/20\n",
            "192/192 [==============================] - 0s 2ms/step - loss: 0.0075 - acc: 0.9993 - val_loss: 0.0061 - val_acc: 1.0000\n",
            "Epoch 9/20\n",
            "192/192 [==============================] - 0s 2ms/step - loss: 0.0057 - acc: 0.9997 - val_loss: 0.0041 - val_acc: 1.0000\n",
            "Epoch 10/20\n",
            "192/192 [==============================] - 0s 2ms/step - loss: 0.0044 - acc: 0.9997 - val_loss: 0.0037 - val_acc: 1.0000\n",
            "Epoch 11/20\n",
            "192/192 [==============================] - 0s 2ms/step - loss: 0.0036 - acc: 1.0000 - val_loss: 0.0026 - val_acc: 1.0000\n",
            "Epoch 12/20\n",
            "192/192 [==============================] - 0s 2ms/step - loss: 0.0028 - acc: 1.0000 - val_loss: 0.0022 - val_acc: 1.0000\n",
            "Epoch 13/20\n",
            "192/192 [==============================] - 0s 2ms/step - loss: 0.0024 - acc: 1.0000 - val_loss: 0.0018 - val_acc: 1.0000\n",
            "Epoch 14/20\n",
            "192/192 [==============================] - 0s 2ms/step - loss: 0.0019 - acc: 1.0000 - val_loss: 0.0015 - val_acc: 1.0000\n",
            "Epoch 15/20\n",
            "192/192 [==============================] - 0s 2ms/step - loss: 0.0016 - acc: 1.0000 - val_loss: 0.0012 - val_acc: 1.0000\n",
            "Epoch 16/20\n",
            "192/192 [==============================] - 0s 2ms/step - loss: 0.0014 - acc: 1.0000 - val_loss: 0.0011 - val_acc: 1.0000\n",
            "Epoch 17/20\n",
            "192/192 [==============================] - 0s 2ms/step - loss: 0.0012 - acc: 1.0000 - val_loss: 0.0010 - val_acc: 1.0000\n",
            "Epoch 18/20\n",
            "192/192 [==============================] - 0s 2ms/step - loss: 9.8646e-04 - acc: 1.0000 - val_loss: 7.7324e-04 - val_acc: 1.0000\n",
            "Epoch 19/20\n",
            "192/192 [==============================] - 0s 2ms/step - loss: 8.3361e-04 - acc: 1.0000 - val_loss: 6.5557e-04 - val_acc: 1.0000\n",
            "Epoch 20/20\n",
            "192/192 [==============================] - 0s 2ms/step - loss: 7.0842e-04 - acc: 1.0000 - val_loss: 5.1168e-04 - val_acc: 1.0000\n"
          ]
        }
      ]
    },
    {
      "cell_type": "code",
      "source": [
        "# Train\n",
        "train_acc = mlp_history.history['acc']\n",
        "train_loss = mlp_history.history['loss']\n",
        "# Validation\n",
        "val_acc = mlp_history.history['val_acc']\n",
        "val_loss = mlp_history.history['val_loss']\n",
        "\n",
        "# Plotting section\n",
        "# Accuracy\n",
        "plt.figure(figsize=(8,5))\n",
        "plt.plot(train_acc, 'r-o', label='Train Accuracy')\n",
        "plt.plot(val_acc, 'g-o', label='Validation Accuracy')\n",
        "plt.title('Accuracy')\n",
        "plt.xlabel('Epochs')\n",
        "plt.legend()\n",
        "plt.grid()\n",
        "# Loss\n",
        "plt.figure(figsize=(8,5))\n",
        "plt.plot(train_loss, 'r-o', label='Train Loss')\n",
        "plt.plot(val_loss, 'g-o', label='Validation Loss')\n",
        "plt.title('Loss')\n",
        "plt.xlabel('Epochs')\n",
        "plt.legend()\n",
        "plt.grid()"
      ],
      "metadata": {
        "colab": {
          "base_uri": "https://localhost:8080/",
          "height": 957
        },
        "id": "yehjdf6ZVf74",
        "outputId": "9a65e27f-1774-46ae-dfcb-e1ca6bf5f105"
      },
      "execution_count": 108,
      "outputs": [
        {
          "output_type": "display_data",
          "data": {
            "text/plain": [
              "<Figure size 800x500 with 1 Axes>"
            ],
            "image/png": "[encoded data removed]"
          },
          "metadata": {}
        },
        {
          "output_type": "display_data",
          "data": {
            "text/plain": [
              "<Figure size 800x500 with 1 Axes>"
            ],
            "image/png": "[encoded data removed]"
          },
          "metadata": {}
        }
      ]
    },
    {
      "cell_type": "code",
      "source": [
        "y_hat_train_ = mlp_model.predict(x_train_scaled)\n",
        "y_hat_train = np.argmax(y_hat_train_, axis=1)\n",
        "y_hat_val_ = mlp_model.predict(x_val_scaled)\n",
        "y_hat_val = np.argmax(y_hat_val_, axis=1)"
      ],
      "metadata": {
        "colab": {
          "base_uri": "https://localhost:8080/"
        },
        "id": "eroSdkmeVf5j",
        "outputId": "71738c08-e16c-432e-fe90-2d6a22e56ef0"
      },
      "execution_count": 109,
      "outputs": [
        {
          "output_type": "stream",
          "name": "stdout",
          "text": [
            "96/96 [==============================] - 0s 1ms/step\n",
            "17/17 [==============================] - 0s 2ms/step\n"
          ]
        }
      ]
    },
    {
      "cell_type": "code",
      "source": [
        "target_names = ['normal', 'inner brace fault', 'ball fault', 'outter brace fault']\n",
        "\n",
        "report_train = classification_report(y_train, y_hat_train, target_names = target_names)\n",
        "report_val = classification_report(y_val, y_hat_val, target_names = target_names)\n",
        "\n",
        "print('Classification report for Train data is:\\n')\n",
        "print(report_train, end='\\n\\n')\n",
        "print('Classification report for Validation data is:\\n')\n",
        "print(report_val, end='\\n\\n')"
      ],
      "metadata": {
        "colab": {
          "base_uri": "https://localhost:8080/"
        },
        "id": "dlEujX9pVf3g",
        "outputId": "59ca9f4b-a8e6-4f0b-f0e1-14820e42c064"
      },
      "execution_count": 110,
      "outputs": [
        {
          "output_type": "stream",
          "name": "stdout",
          "text": [
            "Classification report for Train data is:\n",
            "\n",
            "                    precision    recall  f1-score   support\n",
            "\n",
            "            normal       1.00      1.00      1.00       759\n",
            " inner brace fault       1.00      1.00      1.00       782\n",
            "        ball fault       1.00      1.00      1.00       754\n",
            "outter brace fault       1.00      1.00      1.00       768\n",
            "\n",
            "          accuracy                           1.00      3063\n",
            "         macro avg       1.00      1.00      1.00      3063\n",
            "      weighted avg       1.00      1.00      1.00      3063\n",
            "\n",
            "\n",
            "Classification report for Validation data is:\n",
            "\n",
            "                    precision    recall  f1-score   support\n",
            "\n",
            "            normal       1.00      1.00      1.00       142\n",
            " inner brace fault       1.00      1.00      1.00       119\n",
            "        ball fault       1.00      1.00      1.00       147\n",
            "outter brace fault       1.00      1.00      1.00       133\n",
            "\n",
            "          accuracy                           1.00       541\n",
            "         macro avg       1.00      1.00      1.00       541\n",
            "      weighted avg       1.00      1.00      1.00       541\n",
            "\n",
            "\n"
          ]
        }
      ]
    },
    {
      "cell_type": "code",
      "source": [
        "cm_train = confusion_matrix(y_train, y_hat_train)\n",
        "cm_train_s = np.sum(cm_train,axis=1).reshape(-1,1)\n",
        "cm_train = cm_train/cm_train_s\n",
        "\n",
        "cm_val = confusion_matrix(y_val, y_hat_val)\n",
        "cm_val_s = np.sum(cm_val,axis=1).reshape(-1,1)\n",
        "cm_val = cm_val/cm_val_s\n",
        "\n",
        "# Plotting\n",
        "plt.figure(figsize=(13,5))\n",
        "plt.subplot(1,2,1)\n",
        "sns.heatmap(cm_train, annot=True, cmap=\"crest\", fmt='.1f')\n",
        "plt.title('Train data Confusion matrix')\n",
        "\n",
        "plt.subplot(1,2,2)\n",
        "sns.heatmap(cm_val,  annot=True, cmap=\"crest\", fmt='.1f')\n",
        "plt.title('Validation data confusion matrix')"
      ],
      "metadata": {
        "colab": {
          "base_uri": "https://localhost:8080/",
          "height": 485
        },
        "id": "ZTTbgftAVf1I",
        "outputId": "9d718502-6368-4623-f192-a33ec575dc8b"
      },
      "execution_count": 111,
      "outputs": [
        {
          "output_type": "execute_result",
          "data": {
            "text/plain": [
              "Text(0.5, 1.0, 'Validation data confusion matrix')"
            ]
          },
          "metadata": {},
          "execution_count": 111
        },
        {
          "output_type": "display_data",
          "data": {
            "text/plain": [
              "<Figure size 1300x500 with 4 Axes>"
            ],
            "image/png": "[encoded data removed]"
          },
          "metadata": {}
        }
      ]
    },
    {
      "cell_type": "code",
      "source": [
        "y_hat_test_ = mlp_model.predict(x_test_scaled)\n",
        "y_hat_test = np.argmax(y_hat_test_, axis=1)"
      ],
      "metadata": {
        "colab": {
          "base_uri": "https://localhost:8080/"
        },
        "id": "lpRDUNiCVfy4",
        "outputId": "4b12e60b-d453-4a22-8ec9-3f3a4f22f728"
      },
      "execution_count": 112,
      "outputs": [
        {
          "output_type": "stream",
          "name": "stdout",
          "text": [
            "13/13 [==============================] - 0s 2ms/step\n"
          ]
        }
      ]
    },
    {
      "cell_type": "code",
      "source": [
        "report_test = classification_report(y_test, y_hat_test, target_names = target_names)\n",
        "\n",
        "print('Classification report for Test data is:\\n')\n",
        "print(report_test)"
      ],
      "metadata": {
        "colab": {
          "base_uri": "https://localhost:8080/"
        },
        "id": "0y_rBIF4Vfwa",
        "outputId": "f1f424f7-af80-4098-a1fb-540c75cbaa23"
      },
      "execution_count": 113,
      "outputs": [
        {
          "output_type": "stream",
          "name": "stdout",
          "text": [
            "Classification report for Test data is:\n",
            "\n",
            "                    precision    recall  f1-score   support\n",
            "\n",
            "            normal       1.00      1.00      1.00        99\n",
            " inner brace fault       0.99      1.00      0.99        99\n",
            "        ball fault       1.00      1.00      1.00        99\n",
            "outter brace fault       1.00      0.99      0.99        99\n",
            "\n",
            "          accuracy                           1.00       396\n",
            "         macro avg       1.00      1.00      1.00       396\n",
            "      weighted avg       1.00      1.00      1.00       396\n",
            "\n"
          ]
        }
      ]
    },
    {
      "cell_type": "code",
      "source": [
        "cm_test = confusion_matrix(y_test, y_hat_test)\n",
        "cm_test_s = np.sum(cm_test, axis=1).reshape(-1,1)\n",
        "cm_test = cm_test/cm_test_s\n",
        "\n",
        "# Plotting\n",
        "plt.figure(figsize=(6,5))\n",
        "sns.heatmap(cm_test, annot=True, cmap=\"crest\", fmt='.1f')\n",
        "plt.title('Test data Confusion matrix')"
      ],
      "metadata": {
        "colab": {
          "base_uri": "https://localhost:8080/",
          "height": 485
        },
        "id": "Xc0gLsXqVftx",
        "outputId": "fd413e39-75eb-4d88-bf53-90c5a201f51e"
      },
      "execution_count": 114,
      "outputs": [
        {
          "output_type": "execute_result",
          "data": {
            "text/plain": [
              "Text(0.5, 1.0, 'Test data Confusion matrix')"
            ]
          },
          "metadata": {},
          "execution_count": 114
        },
        {
          "output_type": "display_data",
          "data": {
            "text/plain": [
              "<Figure size 600x500 with 2 Axes>"
            ],
            "image/png": "[encoded data removed]"
          },
          "metadata": {}
        }
      ]
    },
    {
      "cell_type": "markdown",
      "source": [
        "## Part 2\n"
      ],
      "metadata": {
        "id": "SjrKHj0bVzsQ"
      }
    },
    {
      "cell_type": "code",
      "source": [
        "# Turn 1-D array into one-hot-encoded labels\n",
        "y_train_one_hot = to_categorical(y_train)\n",
        "y_val_one_hot = to_categorical(y_val)\n",
        "\n",
        "\n",
        "# compile the model\n",
        "loss_fn_1 = KLDivergence()\n",
        "optimizer_1 = SGD(learning_rate=0.001)\n",
        "mlp_model_1.compile(\n",
        "    loss = loss_fn_1,\n",
        "    optimizer = optimizer_1,\n",
        "    metrics = 'acc'\n",
        ")"
      ],
      "metadata": {
        "id": "zWj1ZZTyVfrg"
      },
      "execution_count": 115,
      "outputs": []
    },
    {
      "cell_type": "code",
      "source": [
        "mlp_history_1 = mlp_model_1.fit(\n",
        "    x_train_scaled,\n",
        "    y_train_one_hot,\n",
        "    batch_size = 16,\n",
        "    epochs = 20,\n",
        "    validation_data = (x_val_scaled, y_val_one_hot)\n",
        ")"
      ],
      "metadata": {
        "colab": {
          "base_uri": "https://localhost:8080/"
        },
        "id": "K_odOEWlVwX4",
        "outputId": "07f6605f-16f3-40f8-9058-6347e854820c"
      },
      "execution_count": 116,
      "outputs": [
        {
          "output_type": "stream",
          "name": "stdout",
          "text": [
            "Epoch 1/20\n",
            "192/192 [==============================] - 2s 4ms/step - loss: 1.4202 - acc: 0.3082 - val_loss: 1.3457 - val_acc: 0.3420\n",
            "Epoch 2/20\n",
            "192/192 [==============================] - 1s 3ms/step - loss: 1.2505 - acc: 0.4845 - val_loss: 1.1984 - val_acc: 0.6081\n",
            "Epoch 3/20\n",
            "192/192 [==============================] - 0s 2ms/step - loss: 1.1323 - acc: 0.6765 - val_loss: 1.1015 - val_acc: 0.6506\n",
            "Epoch 4/20\n",
            "192/192 [==============================] - 0s 2ms/step - loss: 1.0507 - acc: 0.6161 - val_loss: 1.0257 - val_acc: 0.6137\n",
            "Epoch 5/20\n",
            "192/192 [==============================] - 0s 2ms/step - loss: 0.9789 - acc: 0.5939 - val_loss: 0.9535 - val_acc: 0.6137\n",
            "Epoch 6/20\n",
            "192/192 [==============================] - 0s 2ms/step - loss: 0.9105 - acc: 0.6177 - val_loss: 0.8849 - val_acc: 0.6488\n",
            "Epoch 7/20\n",
            "192/192 [==============================] - 0s 2ms/step - loss: 0.8470 - acc: 0.6526 - val_loss: 0.8216 - val_acc: 0.6950\n",
            "Epoch 8/20\n",
            "192/192 [==============================] - 0s 2ms/step - loss: 0.7887 - acc: 0.6938 - val_loss: 0.7639 - val_acc: 0.7375\n",
            "Epoch 9/20\n",
            "192/192 [==============================] - 0s 2ms/step - loss: 0.7355 - acc: 0.7313 - val_loss: 0.7114 - val_acc: 0.7856\n",
            "Epoch 10/20\n",
            "192/192 [==============================] - 0s 2ms/step - loss: 0.6866 - acc: 0.7708 - val_loss: 0.6627 - val_acc: 0.8189\n",
            "Epoch 11/20\n",
            "192/192 [==============================] - 0s 2ms/step - loss: 0.6410 - acc: 0.8374 - val_loss: 0.6172 - val_acc: 0.8928\n",
            "Epoch 12/20\n",
            "192/192 [==============================] - 0s 2ms/step - loss: 0.5980 - acc: 0.9073 - val_loss: 0.5742 - val_acc: 0.9298\n",
            "Epoch 13/20\n",
            "192/192 [==============================] - 0s 2ms/step - loss: 0.5574 - acc: 0.9272 - val_loss: 0.5336 - val_acc: 0.9427\n",
            "Epoch 14/20\n",
            "192/192 [==============================] - 0s 2ms/step - loss: 0.5188 - acc: 0.9354 - val_loss: 0.4954 - val_acc: 0.9501\n",
            "Epoch 15/20\n",
            "192/192 [==============================] - 0s 2ms/step - loss: 0.4825 - acc: 0.9504 - val_loss: 0.4593 - val_acc: 0.9741\n",
            "Epoch 16/20\n",
            "192/192 [==============================] - 0s 2ms/step - loss: 0.4483 - acc: 0.9716 - val_loss: 0.4255 - val_acc: 0.9760\n",
            "Epoch 17/20\n",
            "192/192 [==============================] - 0s 2ms/step - loss: 0.4164 - acc: 0.9768 - val_loss: 0.3943 - val_acc: 0.9760\n",
            "Epoch 18/20\n",
            "192/192 [==============================] - 0s 2ms/step - loss: 0.3870 - acc: 0.9791 - val_loss: 0.3655 - val_acc: 0.9797\n",
            "Epoch 19/20\n",
            "192/192 [==============================] - 0s 2ms/step - loss: 0.3599 - acc: 0.9804 - val_loss: 0.3394 - val_acc: 0.9797\n",
            "Epoch 20/20\n",
            "192/192 [==============================] - 0s 2ms/step - loss: 0.3351 - acc: 0.9817 - val_loss: 0.3157 - val_acc: 0.9797\n"
          ]
        }
      ]
    },
    {
      "cell_type": "code",
      "source": [
        "# Train\n",
        "train_acc = mlp_history_1.history['acc']\n",
        "train_loss = mlp_history_1.history['loss']\n",
        "# Validation\n",
        "val_acc = mlp_history_1.history['val_acc']\n",
        "val_loss = mlp_history_1.history['val_loss']\n",
        "\n",
        "# Plotting section\n",
        "# Accuracy\n",
        "plt.figure(figsize=(8,5))\n",
        "plt.plot(train_acc, 'r-o', label='Train Accuracy')\n",
        "plt.plot(val_acc, 'g-o', label='Validation Accuracy')\n",
        "plt.title('Accuracy')\n",
        "plt.xlabel('Epochs')\n",
        "plt.legend()\n",
        "plt.grid()\n",
        "# Loss\n",
        "plt.figure(figsize=(8,5))\n",
        "plt.plot(train_loss, 'r-o', label='Train Loss')\n",
        "plt.plot(val_loss, 'g-o', label='Validation Loss')\n",
        "plt.title('Loss')\n",
        "plt.xlabel('Epochs')\n",
        "plt.legend()\n",
        "plt.grid()"
      ],
      "metadata": {
        "colab": {
          "base_uri": "https://localhost:8080/",
          "height": 957
        },
        "id": "vbH_eTpEVwVJ",
        "outputId": "6bd4d537-281e-435e-d5e6-d86774bfbbe9"
      },
      "execution_count": 117,
      "outputs": [
        {
          "output_type": "display_data",
          "data": {
            "text/plain": [
              "<Figure size 800x500 with 1 Axes>"
            ],
            "image/png": "[encoded data removed]"
          },
          "metadata": {}
        },
        {
          "output_type": "display_data",
          "data": {
            "text/plain": [
              "<Figure size 800x500 with 1 Axes>"
            ],
            "image/png": "[encoded data removed]"
          },
          "metadata": {}
        }
      ]
    },
    {
      "cell_type": "code",
      "source": [
        "y_hat_train_ = mlp_model_1.predict(x_train_scaled)\n",
        "y_hat_train = np.argmax(y_hat_train_, axis=1)\n",
        "y_hat_val_ = mlp_model_1.predict(x_val_scaled)\n",
        "y_hat_val = np.argmax(y_hat_val_, axis=1)"
      ],
      "metadata": {
        "colab": {
          "base_uri": "https://localhost:8080/"
        },
        "id": "85bv8xYMVwSx",
        "outputId": "b6d00494-b466-4ed1-b004-bdf9ee71d554"
      },
      "execution_count": 118,
      "outputs": [
        {
          "output_type": "stream",
          "name": "stdout",
          "text": [
            "96/96 [==============================] - 0s 1ms/step\n",
            "17/17 [==============================] - 0s 1ms/step\n"
          ]
        }
      ]
    },
    {
      "cell_type": "code",
      "source": [
        "from sklearn.metrics import classification_report\n",
        "\n",
        "target_names = ['normal', 'inner brace fault', 'ball fault', 'outter brace fault']\n",
        "\n",
        "report_train = classification_report(y_train, y_hat_train, target_names = target_names)\n",
        "report_val = classification_report(y_val, y_hat_val, target_names = target_names)\n",
        "\n",
        "print('Classification report for Train data is:\\n')\n",
        "print(report_train, end='\\n\\n')\n",
        "print('Classification report for Validation data is:\\n')\n",
        "print(report_val, end='\\n\\n')"
      ],
      "metadata": {
        "colab": {
          "base_uri": "https://localhost:8080/"
        },
        "id": "p7NnOJZuVwQY",
        "outputId": "e94492d4-0cdc-4e28-ccdf-f5c42340fe92"
      },
      "execution_count": 119,
      "outputs": [
        {
          "output_type": "stream",
          "name": "stdout",
          "text": [
            "Classification report for Train data is:\n",
            "\n",
            "                    precision    recall  f1-score   support\n",
            "\n",
            "            normal       1.00      0.97      0.98       759\n",
            " inner brace fault       0.97      0.99      0.98       782\n",
            "        ball fault       0.97      1.00      0.98       754\n",
            "outter brace fault       1.00      0.97      0.98       768\n",
            "\n",
            "          accuracy                           0.98      3063\n",
            "         macro avg       0.98      0.98      0.98      3063\n",
            "      weighted avg       0.98      0.98      0.98      3063\n",
            "\n",
            "\n",
            "Classification report for Validation data is:\n",
            "\n",
            "                    precision    recall  f1-score   support\n",
            "\n",
            "            normal       1.00      0.96      0.98       142\n",
            " inner brace fault       0.95      1.00      0.98       119\n",
            "        ball fault       0.97      1.00      0.98       147\n",
            "outter brace fault       1.00      0.95      0.98       133\n",
            "\n",
            "          accuracy                           0.98       541\n",
            "         macro avg       0.98      0.98      0.98       541\n",
            "      weighted avg       0.98      0.98      0.98       541\n",
            "\n",
            "\n"
          ]
        }
      ]
    },
    {
      "cell_type": "code",
      "source": [
        "cm_train = confusion_matrix(y_train, y_hat_train)\n",
        "cm_train_s = np.sum(cm_train,axis=1).reshape(-1,1)\n",
        "cm_train = cm_train/cm_train_s\n",
        "\n",
        "cm_val = confusion_matrix(y_val, y_hat_val)\n",
        "cm_val_s = np.sum(cm_val,axis=1).reshape(-1,1)\n",
        "cm_val = cm_val/cm_val_s\n",
        "\n",
        "# Plotting\n",
        "plt.figure(figsize=(13,5))\n",
        "plt.subplot(1,2,1)\n",
        "sns.heatmap(cm_train, annot=True, cmap=\"crest\", fmt='.1f')\n",
        "plt.title('Train data Confusion matrix')\n",
        "\n",
        "plt.subplot(1,2,2)\n",
        "sns.heatmap(cm_val,  annot=True, cmap=\"crest\", fmt='.1f')\n",
        "plt.title('Validation data confusion matrix')"
      ],
      "metadata": {
        "colab": {
          "base_uri": "https://localhost:8080/",
          "height": 485
        },
        "id": "FHLL1dayV_cg",
        "outputId": "5452c6f5-00c0-4efb-8235-57bd748395e0"
      },
      "execution_count": 120,
      "outputs": [
        {
          "output_type": "execute_result",
          "data": {
            "text/plain": [
              "Text(0.5, 1.0, 'Validation data confusion matrix')"
            ]
          },
          "metadata": {},
          "execution_count": 120
        },
        {
          "output_type": "display_data",
          "data": {
            "text/plain": [
              "<Figure size 1300x500 with 4 Axes>"
            ],
            "image/png": "[encoded data removed]"
          },
          "metadata": {}
        }
      ]
    },
    {
      "cell_type": "code",
      "source": [
        "y_hat_test_ = mlp_model_1.predict(x_test_scaled)\n",
        "y_hat_test = np.argmax(y_hat_test_, axis=1)"
      ],
      "metadata": {
        "colab": {
          "base_uri": "https://localhost:8080/"
        },
        "id": "1LH_yphyV_aS",
        "outputId": "db218f25-50a2-4889-ed69-c32ad85cc5c9"
      },
      "execution_count": 121,
      "outputs": [
        {
          "output_type": "stream",
          "name": "stdout",
          "text": [
            "13/13 [==============================] - 0s 2ms/step\n"
          ]
        }
      ]
    },
    {
      "cell_type": "code",
      "source": [
        "report_test = classification_report(y_test, y_hat_test, target_names = target_names)\n",
        "\n",
        "print('Classification report for Test data is:\\n')\n",
        "print(report_test)"
      ],
      "metadata": {
        "colab": {
          "base_uri": "https://localhost:8080/"
        },
        "id": "93Uidax1V_YA",
        "outputId": "4a8dde50-61c6-4708-edf1-47dc35bd019c"
      },
      "execution_count": 122,
      "outputs": [
        {
          "output_type": "stream",
          "name": "stdout",
          "text": [
            "Classification report for Test data is:\n",
            "\n",
            "                    precision    recall  f1-score   support\n",
            "\n",
            "            normal       1.00      1.00      1.00        99\n",
            " inner brace fault       1.00      0.59      0.74        99\n",
            "        ball fault       1.00      1.00      1.00        99\n",
            "outter brace fault       0.71      1.00      0.83        99\n",
            "\n",
            "          accuracy                           0.90       396\n",
            "         macro avg       0.93      0.90      0.89       396\n",
            "      weighted avg       0.93      0.90      0.89       396\n",
            "\n"
          ]
        }
      ]
    },
    {
      "cell_type": "code",
      "source": [
        "cm_test = confusion_matrix(y_test, y_hat_test)\n",
        "cm_test_s = np.sum(cm_test, axis=1).reshape(-1,1)\n",
        "cm_test = cm_test/cm_test_s\n",
        "\n",
        "# Plotting\n",
        "plt.figure(figsize=(6,5))\n",
        "sns.heatmap(cm_test, annot=True, cmap=\"crest\", fmt='.1f')\n",
        "plt.title('Test data Confusion matrix')"
      ],
      "metadata": {
        "colab": {
          "base_uri": "https://localhost:8080/",
          "height": 485
        },
        "id": "9YKlJPDSV_VY",
        "outputId": "4b975ab1-544f-4eb4-c466-2249fa049748"
      },
      "execution_count": 123,
      "outputs": [
        {
          "output_type": "execute_result",
          "data": {
            "text/plain": [
              "Text(0.5, 1.0, 'Test data Confusion matrix')"
            ]
          },
          "metadata": {},
          "execution_count": 123
        },
        {
          "output_type": "display_data",
          "data": {
            "text/plain": [
              "<Figure size 600x500 with 2 Axes>"
            ],
            "image/png": "[encoded data removed]"
          },
          "metadata": {}
        }
      ]
    },
    {
      "cell_type": "markdown",
      "source": [
        "## Stratified K-Fold Cross-validation"
      ],
      "metadata": {
        "id": "RtCD2BAoWNkh"
      }
    },
    {
      "cell_type": "code",
      "source": [
        "# Define the network\n",
        "def network():\n",
        "\n",
        "    # Model architecture\n",
        "    model = Sequential(\n",
        "        [\n",
        "            Input(shape=(14,), name='Input'),\n",
        "            Dense(units=12, activation='relu', name='Hidden_1'),\n",
        "            Dense(units=8, activation='relu', name='Hidden_2'),\n",
        "            Dense(units=4, activation='softmax', name='Classification')\n",
        "        ]\n",
        "    )\n",
        "    # Compiling model\n",
        "    model.compile(\n",
        "        optimizer=Adam(learning_rate=0.001),\n",
        "        loss=SparseCategoricalCrossentropy()\n",
        "    )\n",
        "\n",
        "    return model"
      ],
      "metadata": {
        "id": "mV9-k2xtWIBI"
      },
      "execution_count": 124,
      "outputs": []
    },
    {
      "cell_type": "code",
      "source": [
        "# K-fold model\n",
        "kf = StratifiedKFold(n_splits=5, shuffle=True, random_state=54)\n",
        "\n",
        "fold_acc = {'train':[], 'val':[]}\n",
        "fold_loss = {'train':[], 'val':[]}\n",
        "all_models = []\n",
        "all_losses = []\n",
        "\n",
        "# Train model\n",
        "for train_index, val_index in tqdm.tqdm(kf.split(x_train_scaled,y_train)):\n",
        "    X_train_fold, X_val_fold = x_train_scaled[train_index], x_train_scaled[val_index]\n",
        "    y_train_fold, y_val_fold = y_train[train_index], y_train[val_index]\n",
        "\n",
        "    # Train selected folds\n",
        "    model = network()\n",
        "    history = model.fit(X_train_fold, y_train_fold, epochs=20, batch_size=16, verbose=0, validation_data=(X_val_fold, y_val_fold))\n",
        "\n",
        "    # Accuracy\n",
        "    train_hat = model.predict(X_train_fold, verbose=0)\n",
        "    train_hat = np.argmax(train_hat,axis=1).reshape(-1,)\n",
        "    train_hat = train_hat == y_train_fold\n",
        "    train_score = np.sum(train_hat.astype('float64'))/len(y_train_fold)\n",
        "    fold_acc['train'].append(train_score)\n",
        "\n",
        "    val_hat = model.predict(X_val_fold, verbose=0)\n",
        "    val_hat = np.argmax(val_hat, axis=1).reshape(-1,)\n",
        "    val_hat = val_hat == y_val_fold\n",
        "    val_score = np.sum(val_hat.astype('float64'))/len(y_val_fold)\n",
        "    fold_acc['val'].append(val_score)\n",
        "\n",
        "    # Loss\n",
        "    train_loss = history.history['loss'][-1]\n",
        "    fold_loss['train'].append(train_loss)\n",
        "\n",
        "    val_loss = history.history['val_loss'][-1]\n",
        "    fold_loss['val'].append(val_loss)\n",
        "\n",
        "    # Saving all models\n",
        "    all_models.append(model)\n",
        "    all_losses.append(val_loss)\n",
        "\n"
      ],
      "metadata": {
        "colab": {
          "base_uri": "https://localhost:8080/"
        },
        "id": "g5COhgURWH-p",
        "outputId": "a15907a7-1201-438f-994e-5c7c8aeccddf"
      },
      "execution_count": 125,
      "outputs": [
        {
          "output_type": "stream",
          "name": "stderr",
          "text": [
            "5it [00:42,  8.49s/it]\n"
          ]
        }
      ]
    },
    {
      "cell_type": "code",
      "source": [
        "x_axis = np.array(list(range(5))).astype('float32') + 1\n",
        "width = 0.35\n",
        "\n",
        "# Accuracy\n",
        "fig, ax = plt.subplots()\n",
        "plt.bar(x_axis-width/2, fold_acc['train'], width, label='Train')\n",
        "plt.bar(x_axis+width/2, fold_acc['val'], width, label='Validation')\n",
        "plt.title('Accuracy')\n",
        "plt.xlabel('Fold')\n",
        "plt.legend(loc='upper right')\n",
        "plt.ylim([0.97,1.01])\n",
        "\n",
        "# Loss\n",
        "fig, ax = plt.subplots()\n",
        "plt.bar(x_axis-width/2, fold_loss['train'], width, label='Train')\n",
        "plt.bar(x_axis+width/2, fold_loss['val'], width, label='Validation')\n",
        "plt.title('Loss')\n",
        "plt.xlabel('Fold')\n",
        "plt.legend(loc='upper right')\n",
        "# plt.ylim([0.97,1.01])\n"
      ],
      "metadata": {
        "colab": {
          "base_uri": "https://localhost:8080/",
          "height": 944
        },
        "id": "Uhj2BBJIWH8g",
        "outputId": "dd43f14c-2f79-4cbd-c283-0706fe501e60"
      },
      "execution_count": 126,
      "outputs": [
        {
          "output_type": "execute_result",
          "data": {
            "text/plain": [
              "<matplotlib.legend.Legend at 0x78b9a52f8cd0>"
            ]
          },
          "metadata": {},
          "execution_count": 126
        },
        {
          "output_type": "display_data",
          "data": {
            "text/plain": [
              "<Figure size 640x480 with 1 Axes>"
            ],
            "image/png": "[encoded data removed]"
          },
          "metadata": {}
        },
        {
          "output_type": "display_data",
          "data": {
            "text/plain": [
              "<Figure size 640x480 with 1 Axes>"
            ],
            "image/png": "[encoded data removed]"
          },
          "metadata": {}
        }
      ]
    },
    {
      "cell_type": "code",
      "source": [
        "best = np.argmin(all_losses)\n",
        "y_hat_test_2_ = all_models[best].predict(x_test_scaled)\n",
        "y_hat_test_2 = np.argmax(y_hat_test_2_, axis=1)"
      ],
      "metadata": {
        "colab": {
          "base_uri": "https://localhost:8080/"
        },
        "id": "phaXbd_KWH6J",
        "outputId": "bd476f41-6ea1-4d10-bed3-ee3531011ba0"
      },
      "execution_count": 127,
      "outputs": [
        {
          "output_type": "stream",
          "name": "stdout",
          "text": [
            "13/13 [==============================] - 0s 2ms/step\n"
          ]
        }
      ]
    },
    {
      "cell_type": "code",
      "source": [
        "final_model_test = classification_report(y_test, y_hat_test_2)\n",
        "\n",
        "print('Classification report for Test data is:\\n')\n",
        "print(final_model_test)"
      ],
      "metadata": {
        "colab": {
          "base_uri": "https://localhost:8080/"
        },
        "id": "W5uzRuY0WYpw",
        "outputId": "81e12e4c-511e-49e8-8de1-56c9d5a19ad7"
      },
      "execution_count": 128,
      "outputs": [
        {
          "output_type": "stream",
          "name": "stdout",
          "text": [
            "Classification report for Test data is:\n",
            "\n",
            "              precision    recall  f1-score   support\n",
            "\n",
            "         0.0       1.00      1.00      1.00        99\n",
            "         1.0       1.00      1.00      1.00        99\n",
            "         2.0       1.00      1.00      1.00        99\n",
            "         3.0       1.00      1.00      1.00        99\n",
            "\n",
            "    accuracy                           1.00       396\n",
            "   macro avg       1.00      1.00      1.00       396\n",
            "weighted avg       1.00      1.00      1.00       396\n",
            "\n"
          ]
        }
      ]
    }
  ]
}