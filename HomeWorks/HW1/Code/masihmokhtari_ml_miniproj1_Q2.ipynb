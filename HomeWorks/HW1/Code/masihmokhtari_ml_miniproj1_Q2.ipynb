{
  "cells": [
    {
      "cell_type": "markdown",
      "metadata": {
        "id": "view-in-github",
        "colab_type": "text"
      },
      "source": [
        "<a href=\"https://colab.research.google.com/github/Mac98M/MachineLearning2024_DrAliyari_KNTUCourse/blob/main/HomeWorks/HW1/Code/masihmokhtari_ml_miniproj1_Q2.ipynb\" target=\"_parent\"><img src=\"https://colab.research.google.com/assets/colab-badge.svg\" alt=\"Open In Colab\"/></a>"
      ]
    },
    {
      "cell_type": "markdown",
      "id": "49aaec8b-a916-49af-b8b1-dd7d84eff56c",
      "metadata": {
        "id": "49aaec8b-a916-49af-b8b1-dd7d84eff56c"
      },
      "source": [
        "**Masih Mokhtari _ Miniproj1**\n",
        "**Q2**"
      ]
    },
    {
      "cell_type": "markdown",
      "id": "125c7038-cc8c-48d1-9374-8c1b17d739af",
      "metadata": {
        "id": "125c7038-cc8c-48d1-9374-8c1b17d739af"
      },
      "source": [
        "in tis question we have to download our dataset according to our student number. my student number is 40211454 so i have to download normal_02 and fault data IR007_02 that file names are 99 and 107."
      ]
    },
    {
      "cell_type": "code",
      "execution_count": null,
      "id": "df4424a3-43d6-47db-acf1-5e53b43f0c73",
      "metadata": {
        "id": "df4424a3-43d6-47db-acf1-5e53b43f0c73"
      },
      "outputs": [],
      "source": [
        "import numpy as np\n",
        "import pandas as pd\n",
        "import matplotlib.pyplot as plt\n",
        "from mpl_toolkits.mplot3d import Axes3D\n",
        "import sklearn\n",
        "import joblib\n",
        "import os\n",
        "#import mlxtend\n",
        "\n",
        "from sklearn.datasets import make_classification , make_blobs , make_circles\n",
        "from sklearn.linear_model import LogisticRegression , SGDClassifier\n",
        "from sklearn.model_selection import train_test_split\n",
        "from sklearn import linear_model\n",
        "from sklearn import preprocessing\n",
        "from sklearn.metrics import confusion_matrix, classification_report, roc_curve, precision_recall_curve, auc\n",
        "from sklearn.manifold import TSNE\n",
        "from sklearn.preprocessing import StandardScaler\n",
        "\n",
        "from mlxtend.plotting import plot_decision_regions\n",
        "\n",
        "from mlxtend.plotting import plot_decision_regions\n",
        "\n",
        "from drawdata import ScatterWidget\n",
        "\n",
        "from imblearn.over_sampling import SMOTE\n",
        "\n",
        "from IPython.display import clear_output\n",
        "\n",
        "import seaborn as sns\n",
        "\n",
        "from scipy.io import whosmat\n",
        "from scipy.io import loadmat\n",
        "from scipy import stats"
      ]
    },
    {
      "cell_type": "code",
      "execution_count": null,
      "id": "b7e8b5cc-05f8-433c-adb4-608fdec8f9c0",
      "metadata": {
        "id": "b7e8b5cc-05f8-433c-adb4-608fdec8f9c0"
      },
      "outputs": [],
      "source": [
        "import warnings\n",
        "\n",
        "# Disable all warnings\n",
        "warnings.filterwarnings(\"ignore\")"
      ]
    },
    {
      "cell_type": "markdown",
      "id": "f49ac570-e3fd-446a-9699-c4842b44e6f6",
      "metadata": {
        "jp-MarkdownHeadingCollapsed": true,
        "id": "f49ac570-e3fd-446a-9699-c4842b44e6f6"
      },
      "source": [
        "## 2-1 Download dataset"
      ]
    },
    {
      "cell_type": "code",
      "execution_count": null,
      "id": "176cc32d-1e00-4185-8d00-71e1ac50547f",
      "metadata": {
        "id": "176cc32d-1e00-4185-8d00-71e1ac50547f",
        "outputId": "e7632b81-3b63-4766-cc61-342365edf9cf"
      },
      "outputs": [
        {
          "name": "stdout",
          "output_type": "stream",
          "text": [
            "Requirement already satisfied: gdown in /home/mac/anaconda3/envs/ML_DrAliyari_miniproj1/lib/python3.12/site-packages (5.1.0)\n",
            "\u001b[33mWARNING: Retrying (Retry(total=4, connect=None, read=None, redirect=None, status=None)) after connection broken by 'ReadTimeoutError(\"HTTPSConnectionPool(host='pypi.org', port=443): Read timed out. (read timeout=15)\")': /simple/gdown/\u001b[0m\u001b[33m\n",
            "\u001b[0mRequirement already satisfied: beautifulsoup4 in /home/mac/anaconda3/envs/ML_DrAliyari_miniproj1/lib/python3.12/site-packages (from gdown) (4.12.2)\n",
            "Requirement already satisfied: filelock in /home/mac/anaconda3/envs/ML_DrAliyari_miniproj1/lib/python3.12/site-packages (from gdown) (3.13.4)\n",
            "Requirement already satisfied: requests[socks] in /home/mac/anaconda3/envs/ML_DrAliyari_miniproj1/lib/python3.12/site-packages (from gdown) (2.31.0)\n",
            "Requirement already satisfied: tqdm in /home/mac/anaconda3/envs/ML_DrAliyari_miniproj1/lib/python3.12/site-packages (from gdown) (4.66.2)\n",
            "Requirement already satisfied: soupsieve>1.2 in /home/mac/anaconda3/envs/ML_DrAliyari_miniproj1/lib/python3.12/site-packages (from beautifulsoup4->gdown) (2.5)\n",
            "Requirement already satisfied: charset-normalizer<4,>=2 in /home/mac/anaconda3/envs/ML_DrAliyari_miniproj1/lib/python3.12/site-packages (from requests[socks]->gdown) (2.0.4)\n",
            "Requirement already satisfied: idna<4,>=2.5 in /home/mac/anaconda3/envs/ML_DrAliyari_miniproj1/lib/python3.12/site-packages (from requests[socks]->gdown) (3.4)\n",
            "Requirement already satisfied: urllib3<3,>=1.21.1 in /home/mac/anaconda3/envs/ML_DrAliyari_miniproj1/lib/python3.12/site-packages (from requests[socks]->gdown) (2.1.0)\n",
            "Requirement already satisfied: certifi>=2017.4.17 in /home/mac/anaconda3/envs/ML_DrAliyari_miniproj1/lib/python3.12/site-packages (from requests[socks]->gdown) (2024.2.2)\n",
            "Requirement already satisfied: PySocks!=1.5.7,>=1.5.6 in /home/mac/anaconda3/envs/ML_DrAliyari_miniproj1/lib/python3.12/site-packages (from requests[socks]->gdown) (1.7.1)\n",
            "Downloading...\n",
            "From (original): https://drive.google.com/uc?id=15fxFqhugcNqJiVKk5eb3WvwgxQqk5JKG\n",
            "From (redirected): https://drive.google.com/uc?id=15fxFqhugcNqJiVKk5eb3WvwgxQqk5JKG&confirm=t&uuid=8f4eeae8-09e6-4003-8d07-cb84702d1994\n",
            "To: /mnt/f/Users/Mac/5.KNTU/402-403-2/1.Machine_Learning/HW/hw-2-miniproject1/Code/version2/99.mat\n",
            "100%|███████████████████████████████████████| 15.5M/15.5M [00:21<00:00, 716kB/s]\n",
            "Downloading...\n",
            "From (original): https://drive.google.com/uc?id=1x0xYHe-a_Ta1Rt3ugT0PK3teUH_pctiq\n",
            "From (redirected): https://drive.google.com/uc?id=1x0xYHe-a_Ta1Rt3ugT0PK3teUH_pctiq&confirm=t&uuid=994da09e-ba53-4b0e-b4ec-a87081ef01fa\n",
            "To: /mnt/f/Users/Mac/5.KNTU/402-403-2/1.Machine_Learning/HW/hw-2-miniproject1/Code/version2/107.mat\n",
            "100%|███████████████████████████████████████| 2.93M/2.93M [00:03<00:00, 774kB/s]\n"
          ]
        }
      ],
      "source": [
        "#for download these dataset\n",
        "#file 99 address (normal data): https://drive.google.com/file/d/15fxFqhugcNqJiVKk5eb3WvwgxQqk5JKG/view?usp=drive_link\n",
        "#file 107 address (fault data): https://drive.google.com/file/d/1x0xYHe-a_Ta1Rt3ugT0PK3teUH_pctiq/view?usp=sharing\n",
        "\n",
        "!pip install --upgrade --no-cache-dir gdown\n",
        "!gdown 15fxFqhugcNqJiVKk5eb3WvwgxQqk5JKG\n",
        "!gdown 1x0xYHe-a_Ta1Rt3ugT0PK3teUH_pctiq"
      ]
    },
    {
      "cell_type": "markdown",
      "id": "329ad021-39f0-4879-8a75-52ec0a1ed15c",
      "metadata": {
        "jp-MarkdownHeadingCollapsed": true,
        "id": "329ad021-39f0-4879-8a75-52ec0a1ed15c"
      },
      "source": [
        "## 2-2 Load and Prepare Dataset"
      ]
    },
    {
      "cell_type": "code",
      "execution_count": null,
      "id": "624b4e1e-f7b0-4940-841b-75ed057e5e4b",
      "metadata": {
        "id": "624b4e1e-f7b0-4940-841b-75ed057e5e4b"
      },
      "outputs": [],
      "source": [
        "# Loading normal data\n",
        "data_n = loadmat('99.mat')\n",
        "cols_n = list(data_n.keys())[-4:]\n",
        "\n",
        "# Loading fault data\n",
        "data_f = loadmat('107.mat')\n",
        "cols_f = list(data_f.keys())[-4:-1]"
      ]
    },
    {
      "cell_type": "code",
      "execution_count": null,
      "id": "9469c8a6-d1bf-405f-b494-7387b8b7051f",
      "metadata": {
        "id": "9469c8a6-d1bf-405f-b494-7387b8b7051f",
        "outputId": "64d8046a-8875-477e-dfba-e22ba2d21ca9"
      },
      "outputs": [
        {
          "name": "stdout",
          "output_type": "stream",
          "text": [
            "Normal Data:\n",
            "['X098_DE_time', 'X098_FE_time', 'X099_DE_time', 'X099_FE_time']\n",
            "\n",
            "Fault Data:\n",
            "['X107_DE_time', 'X107_FE_time', 'X107_BA_time']\n"
          ]
        }
      ],
      "source": [
        "print(f\"Normal Data:\\n{cols_n}\", end='\\n\\n')\n",
        "print(f'Fault Data:\\n{cols_f}')"
      ]
    },
    {
      "cell_type": "code",
      "execution_count": null,
      "id": "be7a56f7-de61-4300-b1a1-96fafaf483ee",
      "metadata": {
        "id": "be7a56f7-de61-4300-b1a1-96fafaf483ee"
      },
      "outputs": [],
      "source": [
        "M = 300\n",
        "N = 300\n",
        "all_cols = np.concatenate((cols_n,cols_f))\n",
        "\n",
        "matrices = dict()\n",
        "for i in range(len(all_cols)):\n",
        "\n",
        "    mat = np.zeros((M,N))\n",
        "    for j in range(M):\n",
        "\n",
        "        try:\n",
        "            mat[j,:] = data_n[all_cols[i]][j:j+N].reshape(-1,)\n",
        "        except:\n",
        "            mat[j,:] = data_f[all_cols[i]][j:j+N].reshape(-1,)\n",
        "    matrices[all_cols[i]] = mat"
      ]
    },
    {
      "cell_type": "code",
      "execution_count": null,
      "id": "524259fe-e489-4d0a-b252-7f875c534eaa",
      "metadata": {
        "id": "524259fe-e489-4d0a-b252-7f875c534eaa",
        "outputId": "ab2641a9-f92c-422b-f712-605b2ae8228b"
      },
      "outputs": [
        {
          "name": "stdout",
          "output_type": "stream",
          "text": [
            "Class \"X098_DE_time\"'s matrix has the shape of (300, 300)\n",
            "Class \"X098_FE_time\"'s matrix has the shape of (300, 300)\n",
            "Class \"X099_DE_time\"'s matrix has the shape of (300, 300)\n",
            "Class \"X099_FE_time\"'s matrix has the shape of (300, 300)\n",
            "Class \"X107_DE_time\"'s matrix has the shape of (300, 300)\n",
            "Class \"X107_FE_time\"'s matrix has the shape of (300, 300)\n",
            "Class \"X107_BA_time\"'s matrix has the shape of (300, 300)\n"
          ]
        }
      ],
      "source": [
        "for i,col in enumerate(all_cols):\n",
        "\n",
        "    mat_size = matrices[col].shape\n",
        "    print(f'Class \"{col}\"\\'s matrix has the shape of {mat_size}')"
      ]
    },
    {
      "cell_type": "code",
      "execution_count": null,
      "id": "1b69d690-e547-4808-b0a6-11917706689a",
      "metadata": {
        "id": "1b69d690-e547-4808-b0a6-11917706689a"
      },
      "outputs": [],
      "source": [
        "normal_mat = matrices['X099_DE_time']\n",
        "fault_mat = matrices['X107_DE_time']"
      ]
    },
    {
      "cell_type": "code",
      "execution_count": null,
      "id": "c22e95bb-1613-4a12-909f-fdf22cc8ac9e",
      "metadata": {
        "id": "c22e95bb-1613-4a12-909f-fdf22cc8ac9e"
      },
      "outputs": [],
      "source": [
        "class Features:\n",
        "\n",
        "    def __init__(self,matrix):\n",
        "        self.matrix = matrix\n",
        "        self._extract()\n",
        "\n",
        "    def _extract(self):\n",
        "\n",
        "        self.features = {\n",
        "            'standard deviation': stats.tstd(self.matrix, axis=1),\n",
        "            'peak': np.max(self.matrix, axis=1),\n",
        "            'skewness': stats.skew(self.matrix, axis=1),\n",
        "            'mean': np.mean(self.matrix, axis=1),\n",
        "            'absolute mean': np.mean(np.abs(self.matrix), axis=1),\n",
        "            'root mean square': np.sqrt(np.mean(np.square(self.matrix), axis=1)),\n",
        "            'square root mean': np.square(np.mean(np.sqrt(np.abs(self.matrix)), axis=1)),\n",
        "            'kurtosis': stats.kurtosis(self.matrix, axis=1),\n",
        "            'crest factor': np.max(self.matrix, axis=1) / np.sqrt(np.mean(np.square(self.matrix), axis=1)),\n",
        "            'clearance factor': np.max(self.matrix, axis=1) / np.square(np.mean(np.sqrt(np.abs(self.matrix)), axis=1)),\n",
        "            'peak to peak': np.max(self.matrix, axis=1) - np.min(self.matrix, axis=1),\n",
        "            'shape factor': np.sqrt(np.mean(np.square(self.matrix), axis=1)) / np.mean(np.abs(self.matrix), axis=1),\n",
        "            'impact factor': np.sqrt(np.mean(np.square(self.matrix), axis=1)) / np.mean(np.abs(self.matrix), axis=1),\n",
        "            'impulse factor': np.abs(np.mean(self.matrix, axis=1)) / np.mean(np.abs(self.matrix), axis=1)\n",
        "        }\n",
        "\n",
        "    def __getitem__(self,key):\n",
        "        return self.features[key]\n",
        "\n",
        "\n",
        "normal_features = Features(normal_mat)\n",
        "fault_features = Features(fault_mat)"
      ]
    },
    {
      "cell_type": "code",
      "execution_count": null,
      "id": "6b5d57b1-890a-4cce-9cc2-6e8279b0fb43",
      "metadata": {
        "id": "6b5d57b1-890a-4cce-9cc2-6e8279b0fb43",
        "outputId": "a70deb36-27bc-47a2-8a57-bee05d16187e"
      },
      "outputs": [
        {
          "data": {
            "text/html": [
              "<div>\n",
              "<style scoped>\n",
              "    .dataframe tbody tr th:only-of-type {\n",
              "        vertical-align: middle;\n",
              "    }\n",
              "\n",
              "    .dataframe tbody tr th {\n",
              "        vertical-align: top;\n",
              "    }\n",
              "\n",
              "    .dataframe thead th {\n",
              "        text-align: right;\n",
              "    }\n",
              "</style>\n",
              "<table border=\"1\" class=\"dataframe\">\n",
              "  <thead>\n",
              "    <tr style=\"text-align: right;\">\n",
              "      <th></th>\n",
              "      <th>standard deviation</th>\n",
              "      <th>peak</th>\n",
              "      <th>skewness</th>\n",
              "      <th>mean</th>\n",
              "      <th>absolute mean</th>\n",
              "      <th>root mean square</th>\n",
              "      <th>square root mean</th>\n",
              "      <th>kurtosis</th>\n",
              "      <th>crest factor</th>\n",
              "      <th>clearance factor</th>\n",
              "      <th>peak to peak</th>\n",
              "      <th>shape factor</th>\n",
              "      <th>impact factor</th>\n",
              "      <th>impulse factor</th>\n",
              "      <th>label</th>\n",
              "    </tr>\n",
              "  </thead>\n",
              "  <tbody>\n",
              "    <tr>\n",
              "      <th>0</th>\n",
              "      <td>0.058498</td>\n",
              "      <td>0.179826</td>\n",
              "      <td>-0.055605</td>\n",
              "      <td>0.015461</td>\n",
              "      <td>0.046085</td>\n",
              "      <td>0.060412</td>\n",
              "      <td>0.037528</td>\n",
              "      <td>0.492086</td>\n",
              "      <td>2.976653</td>\n",
              "      <td>4.791810</td>\n",
              "      <td>0.355481</td>\n",
              "      <td>1.310902</td>\n",
              "      <td>1.310902</td>\n",
              "      <td>0.335496</td>\n",
              "      <td>0</td>\n",
              "    </tr>\n",
              "    <tr>\n",
              "      <th>1</th>\n",
              "      <td>0.058476</td>\n",
              "      <td>0.179826</td>\n",
              "      <td>-0.043412</td>\n",
              "      <td>0.015163</td>\n",
              "      <td>0.045954</td>\n",
              "      <td>0.060316</td>\n",
              "      <td>0.037406</td>\n",
              "      <td>0.495332</td>\n",
              "      <td>2.981411</td>\n",
              "      <td>4.807449</td>\n",
              "      <td>0.355481</td>\n",
              "      <td>1.312514</td>\n",
              "      <td>1.312514</td>\n",
              "      <td>0.329954</td>\n",
              "      <td>0</td>\n",
              "    </tr>\n",
              "    <tr>\n",
              "      <th>2</th>\n",
              "      <td>0.058415</td>\n",
              "      <td>0.179826</td>\n",
              "      <td>-0.035048</td>\n",
              "      <td>0.014961</td>\n",
              "      <td>0.045753</td>\n",
              "      <td>0.060206</td>\n",
              "      <td>0.037147</td>\n",
              "      <td>0.507955</td>\n",
              "      <td>2.986838</td>\n",
              "      <td>4.840926</td>\n",
              "      <td>0.355481</td>\n",
              "      <td>1.315903</td>\n",
              "      <td>1.315903</td>\n",
              "      <td>0.327001</td>\n",
              "      <td>0</td>\n",
              "    </tr>\n",
              "    <tr>\n",
              "      <th>3</th>\n",
              "      <td>0.058431</td>\n",
              "      <td>0.179826</td>\n",
              "      <td>-0.042994</td>\n",
              "      <td>0.015128</td>\n",
              "      <td>0.045891</td>\n",
              "      <td>0.060264</td>\n",
              "      <td>0.037337</td>\n",
              "      <td>0.504756</td>\n",
              "      <td>2.984002</td>\n",
              "      <td>4.816312</td>\n",
              "      <td>0.355481</td>\n",
              "      <td>1.313202</td>\n",
              "      <td>1.313202</td>\n",
              "      <td>0.329656</td>\n",
              "      <td>0</td>\n",
              "    </tr>\n",
              "    <tr>\n",
              "      <th>4</th>\n",
              "      <td>0.058434</td>\n",
              "      <td>0.179826</td>\n",
              "      <td>-0.056066</td>\n",
              "      <td>0.015472</td>\n",
              "      <td>0.045996</td>\n",
              "      <td>0.060353</td>\n",
              "      <td>0.037427</td>\n",
              "      <td>0.505429</td>\n",
              "      <td>2.979557</td>\n",
              "      <td>4.804676</td>\n",
              "      <td>0.355481</td>\n",
              "      <td>1.312159</td>\n",
              "      <td>1.312159</td>\n",
              "      <td>0.336387</td>\n",
              "      <td>0</td>\n",
              "    </tr>\n",
              "  </tbody>\n",
              "</table>\n",
              "</div>"
            ],
            "text/plain": [
              "   standard deviation      peak  skewness      mean  absolute mean  \\\n",
              "0            0.058498  0.179826 -0.055605  0.015461       0.046085   \n",
              "1            0.058476  0.179826 -0.043412  0.015163       0.045954   \n",
              "2            0.058415  0.179826 -0.035048  0.014961       0.045753   \n",
              "3            0.058431  0.179826 -0.042994  0.015128       0.045891   \n",
              "4            0.058434  0.179826 -0.056066  0.015472       0.045996   \n",
              "\n",
              "   root mean square  square root mean  kurtosis  crest factor  \\\n",
              "0          0.060412          0.037528  0.492086      2.976653   \n",
              "1          0.060316          0.037406  0.495332      2.981411   \n",
              "2          0.060206          0.037147  0.507955      2.986838   \n",
              "3          0.060264          0.037337  0.504756      2.984002   \n",
              "4          0.060353          0.037427  0.505429      2.979557   \n",
              "\n",
              "   clearance factor  peak to peak  shape factor  impact factor  \\\n",
              "0          4.791810      0.355481      1.310902       1.310902   \n",
              "1          4.807449      0.355481      1.312514       1.312514   \n",
              "2          4.840926      0.355481      1.315903       1.315903   \n",
              "3          4.816312      0.355481      1.313202       1.313202   \n",
              "4          4.804676      0.355481      1.312159       1.312159   \n",
              "\n",
              "   impulse factor  label  \n",
              "0        0.335496      0  \n",
              "1        0.329954      0  \n",
              "2        0.327001      0  \n",
              "3        0.329656      0  \n",
              "4        0.336387      0  "
            ]
          },
          "execution_count": 39,
          "metadata": {},
          "output_type": "execute_result"
        }
      ],
      "source": [
        "# Create dataframe for normal data ( Normal data label ---> 0 )\n",
        "df_normal = pd.DataFrame(normal_features.features)\n",
        "df_normal['label'] = np.zeros((df_normal.shape[0],), dtype='int8')\n",
        "# Create dataframe for faulty data ( Fault data label --> 1 )\n",
        "df_fault = pd.DataFrame(fault_features.features)\n",
        "df_fault['label'] = np.ones((df_fault.shape[0],), dtype='int8')\n",
        "\n",
        "# Stacking both datasets\n",
        "df = pd.concat ([df_normal, df_fault], ignore_index=True)\n",
        "df.head()"
      ]
    },
    {
      "cell_type": "code",
      "execution_count": null,
      "id": "2ff49a2f-d0aa-4c0d-92c9-8c0073ca7c70",
      "metadata": {
        "id": "2ff49a2f-d0aa-4c0d-92c9-8c0073ca7c70",
        "outputId": "825843c1-08be-4054-fd70-568162370909"
      },
      "outputs": [
        {
          "name": "stdout",
          "output_type": "stream",
          "text": [
            "test size: 0.2\n",
            "x_train shape : (480, 14), y_train shape :(480,)\n",
            "x_test shape : (120, 14), y_test :(120,)\n"
          ]
        }
      ],
      "source": [
        "x_train, x_test, y_train, y_test = train_test_split(\n",
        "    df.drop('label', axis=1, inplace=False).values,\n",
        "    df.label.values,\n",
        "    test_size = 0.2,\n",
        "    shuffle = True,\n",
        "    random_state = 54\n",
        ")\n",
        "print(f'test size: {len(y_test)/(len(y_train)+len(y_test))}')\n",
        "print(f'x_train shape : {x_train.shape}, y_train shape :{y_train.shape}')\n",
        "print(f'x_test shape : {x_test.shape}, y_test :{y_test.shape}')"
      ]
    },
    {
      "cell_type": "code",
      "execution_count": null,
      "id": "fa69ca69-a207-44c6-b13c-1210f2456e3d",
      "metadata": {
        "id": "fa69ca69-a207-44c6-b13c-1210f2456e3d"
      },
      "outputs": [],
      "source": [
        "#Normalizing data\n",
        "scaler = StandardScaler()\n",
        "scaler.fit(x_train)\n",
        "x_train_scaled = scaler.transform(x_train)\n",
        "x_train = x_train_scaled\n",
        "x_test_scaled = scaler.transform(x_test)\n",
        "x_test = x_test_scaled"
      ]
    },
    {
      "cell_type": "markdown",
      "id": "9dfceb2d-d3e8-429a-8bfc-21d03f93e412",
      "metadata": {
        "jp-MarkdownHeadingCollapsed": true,
        "id": "9dfceb2d-d3e8-429a-8bfc-21d03f93e412"
      },
      "source": [
        "## 2-3 impleament model"
      ]
    },
    {
      "cell_type": "markdown",
      "id": "936713e8-e70f-4238-9d0a-d311f61d87cc",
      "metadata": {
        "jp-MarkdownHeadingCollapsed": true,
        "id": "936713e8-e70f-4238-9d0a-d311f61d87cc"
      },
      "source": [
        "### 2-3-1 Logistic Regression from scratch"
      ]
    },
    {
      "cell_type": "code",
      "execution_count": null,
      "id": "ce89a391-8f9c-4fa5-a434-1623f31d16ee",
      "metadata": {
        "id": "ce89a391-8f9c-4fa5-a434-1623f31d16ee"
      },
      "outputs": [],
      "source": [
        "class LogisticRegression_fs:\n",
        "\n",
        "    def __init__(self, n_iter=10, learning_rate=0.01, random_state=None):\n",
        "        self.n_iter = n_iter\n",
        "        self.eta = learning_rate\n",
        "        np.random.seed(random_state)\n",
        "\n",
        "    def _weight_init(self):\n",
        "        self.w = np.random.rand(14)*0\n",
        "        self.b = np.random.rand()\n",
        "\n",
        "    def _update(self,x,E):\n",
        "        dj = np.dot(x.T,E)\n",
        "        self.w += self.eta*dj\n",
        "        self.b += self.eta*np.sum(E)\n",
        "\n",
        "    def forward(self,x):\n",
        "        z = np.dot(x,self.w) + self.b\n",
        "        a = 1/(1+np.e**(-z))\n",
        "        y_hat = np.array([1 if hat>.5 else 0 for hat in a])\n",
        "        return y_hat\n",
        "\n",
        "    def error(self,predict,true):\n",
        "        E = true - predict\n",
        "        e = 1/len(true) * np.dot(E,E)\n",
        "        return E,e\n",
        "\n",
        "    def train(self,x,y):\n",
        "        self._weight_init()\n",
        "        self.loss = []\n",
        "        for iter in range(self.n_iter):\n",
        "\n",
        "            y_hat = self.forward(x)\n",
        "            E,e = self.error(y_hat,y)\n",
        "            self.loss.append(e)\n",
        "            self._update(x,E)\n",
        "\n",
        "# Train model with data\n",
        "lgr_model = LogisticRegression_fs(n_iter = 100, learning_rate =0.0001, random_state = 54)\n",
        "lgr_model.train(x_train,y_train)"
      ]
    },
    {
      "cell_type": "code",
      "execution_count": null,
      "id": "c6f16fa0-acb1-43df-8f20-c10421323c0f",
      "metadata": {
        "id": "c6f16fa0-acb1-43df-8f20-c10421323c0f",
        "outputId": "8c898a07-6c07-4d66-b44c-5a2e42d589f0"
      },
      "outputs": [
        {
          "data": {
            "text/plain": [
              "Text(0.5, 0, 'Iteration')"
            ]
          },
          "execution_count": 68,
          "metadata": {},
          "output_type": "execute_result"
        },
        {
          "data": {
            "image/png": "[encoded data removed]",
            "text/plain": [
              "<Figure size 640x480 with 1 Axes>"
            ]
          },
          "metadata": {},
          "output_type": "display_data"
        }
      ],
      "source": [
        "# Plot loss\n",
        "plt.plot(lgr_model.loss)\n",
        "plt.title('Error per epoch')\n",
        "plt.ylabel('Error')\n",
        "plt.xlabel('Iteration')"
      ]
    },
    {
      "cell_type": "code",
      "execution_count": null,
      "id": "4bbb213f-c498-434a-9ebe-172d538e560d",
      "metadata": {
        "id": "4bbb213f-c498-434a-9ebe-172d538e560d",
        "outputId": "af74618f-26d2-4f6a-f2aa-7b5470e6d1af"
      },
      "outputs": [
        {
          "name": "stdout",
          "output_type": "stream",
          "text": [
            "acc: 99.2%\n"
          ]
        }
      ],
      "source": [
        "# Predict test values\n",
        "y_hat = lgr_model.forward(x_test)\n",
        "\n",
        "TP = np.sum(y_hat[y_test==1])\n",
        "TN = np.sum(np.abs(y_hat[y_test==0]-1))\n",
        "FP = np.sum(y_hat[y_test==0])\n",
        "FN = np.sum(np.abs(y_hat[y_test==1]-1))\n",
        "\n",
        "# Accuracy\n",
        "accuracy = (TP+TN)/len(y_test)\n",
        "print(f'acc: {accuracy*100:.1f}%')"
      ]
    },
    {
      "cell_type": "code",
      "execution_count": null,
      "id": "b6df3d25-8406-41ed-831a-fef08a1bf93b",
      "metadata": {
        "id": "b6df3d25-8406-41ed-831a-fef08a1bf93b",
        "outputId": "ee4a27ea-ac14-4941-eb1b-7fbf38b4e0c8"
      },
      "outputs": [
        {
          "name": "stdout",
          "output_type": "stream",
          "text": [
            "predict : [0 1 1 0 1 1 0 0 1 1 0 0 1 1 1 0 1 1 0 1 0 0 1 0 0 1 0 1 0 1 0 1 0 1 0 1 0\n",
            " 1 0 1 1 0 0 1 1 0 0 1 1 1 1 0 1 1 0 0 1 1 1 0 0 0 0 0 1 0 1 1 0 1 0 1 0 0\n",
            " 1 1 1 0 0 0 1 0 0 1 1 1 1 0 1 0 0 1 0 0 0 0 1 1 1 0 0 0 0 1 1 1 1 0 1 0 0\n",
            " 0 1 0 1 0 0 1 1 1] \n",
            "real :    [0 1 1 0 1 1 0 0 1 1 0 0 1 1 1 0 1 1 0 1 0 0 1 0 0 1 0 1 0 1 0 1 0 1 0 1 0\n",
            " 1 0 1 1 0 0 1 1 0 0 1 1 1 1 0 1 1 0 0 1 1 1 0 0 0 0 0 1 0 1 1 0 1 0 1 0 0\n",
            " 1 1 1 0 0 0 1 0 0 1 1 1 1 0 1 0 0 1 0 0 0 0 1 1 1 0 0 0 0 1 1 1 1 0 0 0 0\n",
            " 0 1 0 1 0 0 1 1 1]\n",
            "*************************************************************************************\n",
            "total = 120 ,valid = 119 ,invalid = 1\n",
            "*************************************************************************************\n",
            "acc_test = 0.9916666666666667\n",
            "Classification Report:\n",
            "              precision    recall  f1-score   support\n",
            "\n",
            "           0       1.00      0.98      0.99        60\n",
            "           1       0.98      1.00      0.99        60\n",
            "\n",
            "    accuracy                           0.99       120\n",
            "   macro avg       0.99      0.99      0.99       120\n",
            "weighted avg       0.99      0.99      0.99       120\n",
            "\n",
            "*************************************************************************************\n"
          ]
        }
      ],
      "source": [
        "#y_hat = lgr_model.predict(x_test)\n",
        "print(f\"predict : {y_hat} \\nreal :    {y_test}\")\n",
        "print(\"*************************************************************************************\")\n",
        "valid = 0\n",
        "invalid = 0\n",
        "for i in range(len(y_hat)):\n",
        "    if y_hat[i] == y_test[i]:\n",
        "        valid += 1\n",
        "    else:\n",
        "        invalid += 1\n",
        "print(f\"total = {len(x_test)} ,valid = {valid} ,invalid = {invalid}\")\n",
        "\n",
        "print(\"*************************************************************************************\")\n",
        "print(f\"acc_test = {accuracy}\")\n",
        "# Classification report\n",
        "class_report = classification_report(y_test, y_hat)\n",
        "print(\"Classification Report:\")\n",
        "print(class_report)\n",
        "\n",
        "print(\"*************************************************************************************\")"
      ]
    },
    {
      "cell_type": "code",
      "execution_count": null,
      "id": "eb1ac45b-5e86-455c-b836-f32eebdbfc51",
      "metadata": {
        "id": "eb1ac45b-5e86-455c-b836-f32eebdbfc51",
        "outputId": "46a1f963-e9e4-4a5a-ead1-5048e23dcb26"
      },
      "outputs": [
        {
          "data": {
            "image/png": "[encoded data removed]",
            "text/plain": [
              "<Figure size 640x480 with 2 Axes>"
            ]
          },
          "metadata": {},
          "output_type": "display_data"
        }
      ],
      "source": [
        "cm= confusion_matrix(y_test,y_hat)\n",
        "sns.heatmap(cm, cmap=\"Blues\", fmt=\"d\")\n",
        "plt.title(\"Confusion Matrix of test data\")\n",
        "plt.xlabel(\"Predicted Labels\")\n",
        "plt.ylabel(\"True Labels\")\n",
        "plt.show()"
      ]
    },
    {
      "cell_type": "markdown",
      "id": "c374d247-30d5-48aa-a8b4-a2d01221b11a",
      "metadata": {
        "jp-MarkdownHeadingCollapsed": true,
        "id": "c374d247-30d5-48aa-a8b4-a2d01221b11a"
      },
      "source": [
        "### 2-3-2 sklearn model"
      ]
    },
    {
      "cell_type": "code",
      "execution_count": null,
      "id": "0807e474-ee50-45ce-862d-9755df5bc3b4",
      "metadata": {
        "id": "0807e474-ee50-45ce-862d-9755df5bc3b4",
        "outputId": "5ff6393a-6589-4c16-d97a-cf54063a3ea2"
      },
      "outputs": [
        {
          "name": "stdout",
          "output_type": "stream",
          "text": [
            "predict : [0 1 1 0 1 1 0 0 1 1 0 0 1 1 1 0 1 1 0 1 0 0 1 0 0 1 0 1 0 1 0 1 0 1 0 1 0\n",
            " 1 0 1 1 0 0 1 1 0 0 1 1 1 1 0 1 1 0 0 1 1 1 0 0 0 0 0 1 0 1 1 0 1 0 1 0 0\n",
            " 1 1 1 0 0 0 1 0 0 1 1 1 1 0 1 0 0 1 0 0 0 0 1 1 1 0 0 0 0 1 1 1 1 0 0 0 0\n",
            " 0 1 0 1 0 0 1 1 1] \n",
            "real :    [0 1 1 0 1 1 0 0 1 1 0 0 1 1 1 0 1 1 0 1 0 0 1 0 0 1 0 1 0 1 0 1 0 1 0 1 0\n",
            " 1 0 1 1 0 0 1 1 0 0 1 1 1 1 0 1 1 0 0 1 1 1 0 0 0 0 0 1 0 1 1 0 1 0 1 0 0\n",
            " 1 1 1 0 0 0 1 0 0 1 1 1 1 0 1 0 0 1 0 0 0 0 1 1 1 0 0 0 0 1 1 1 1 0 0 0 0\n",
            " 0 1 0 1 0 0 1 1 1]\n",
            "*************************************************************************************\n",
            "acc_test = 1.0\n",
            "acc_train = 1.0\n",
            "*************************************************************************************\n",
            "total = 120 ,valid = 120 ,invalid = 0\n",
            "*************************************************************************************\n",
            "Classification Report:\n",
            "              precision    recall  f1-score   support\n",
            "\n",
            "           0       1.00      1.00      1.00        60\n",
            "           1       1.00      1.00      1.00        60\n",
            "\n",
            "    accuracy                           1.00       120\n",
            "   macro avg       1.00      1.00      1.00       120\n",
            "weighted avg       1.00      1.00      1.00       120\n",
            "\n",
            "*************************************************************************************\n"
          ]
        },
        {
          "data": {
            "text/plain": [
              "array([[9.99371635e-01, 6.28365449e-04],\n",
              "       [6.40365292e-04, 9.99359635e-01],\n",
              "       [1.26661127e-04, 9.99873339e-01],\n",
              "       [9.98074598e-01, 1.92540214e-03],\n",
              "       [4.62251162e-03, 9.95377488e-01],\n",
              "       [5.71171444e-04, 9.99428829e-01],\n",
              "       [9.99519670e-01, 4.80329780e-04],\n",
              "       [9.95780321e-01, 4.21967897e-03],\n",
              "       [6.72456001e-04, 9.99327544e-01],\n",
              "       [5.47378631e-04, 9.99452621e-01],\n",
              "       [9.99392258e-01, 6.07742315e-04],\n",
              "       [9.97348272e-01, 2.65172775e-03],\n",
              "       [2.81636902e-04, 9.99718363e-01],\n",
              "       [2.23504429e-04, 9.99776496e-01],\n",
              "       [7.09179488e-04, 9.99290821e-01],\n",
              "       [9.99183011e-01, 8.16988602e-04],\n",
              "       [5.29657394e-04, 9.99470343e-01],\n",
              "       [3.81471702e-04, 9.99618528e-01],\n",
              "       [9.96891488e-01, 3.10851209e-03],\n",
              "       [7.87043033e-04, 9.99212957e-01],\n",
              "       [9.96201676e-01, 3.79832353e-03],\n",
              "       [9.99134764e-01, 8.65235897e-04],\n",
              "       [2.20534396e-04, 9.99779466e-01],\n",
              "       [9.98495216e-01, 1.50478449e-03],\n",
              "       [9.99511998e-01, 4.88001711e-04],\n",
              "       [1.42368200e-04, 9.99857632e-01],\n",
              "       [9.99624400e-01, 3.75600108e-04],\n",
              "       [2.16769833e-04, 9.99783230e-01],\n",
              "       [9.95688570e-01, 4.31142974e-03],\n",
              "       [5.67471731e-04, 9.99432528e-01],\n",
              "       [9.97826345e-01, 2.17365516e-03],\n",
              "       [3.17795643e-03, 9.96822044e-01],\n",
              "       [9.98493030e-01, 1.50697041e-03],\n",
              "       [8.98600211e-04, 9.99101400e-01],\n",
              "       [9.98036105e-01, 1.96389512e-03],\n",
              "       [1.75905687e-04, 9.99824094e-01],\n",
              "       [9.99596646e-01, 4.03353996e-04],\n",
              "       [1.78998509e-04, 9.99821001e-01],\n",
              "       [9.99516725e-01, 4.83275177e-04],\n",
              "       [1.56683300e-04, 9.99843317e-01],\n",
              "       [1.60845477e-04, 9.99839155e-01],\n",
              "       [9.98033047e-01, 1.96695268e-03],\n",
              "       [9.99595532e-01, 4.04468337e-04],\n",
              "       [4.11814361e-03, 9.95881856e-01],\n",
              "       [1.35683992e-04, 9.99864316e-01],\n",
              "       [9.99078987e-01, 9.21012969e-04],\n",
              "       [9.99676369e-01, 3.23631457e-04],\n",
              "       [8.05271608e-04, 9.99194728e-01],\n",
              "       [5.17585398e-04, 9.99482415e-01],\n",
              "       [6.52347887e-04, 9.99347652e-01],\n",
              "       [1.46463298e-04, 9.99853537e-01],\n",
              "       [9.99579902e-01, 4.20098162e-04],\n",
              "       [1.97344674e-04, 9.99802655e-01],\n",
              "       [1.60139718e-04, 9.99839860e-01],\n",
              "       [9.99371494e-01, 6.28506082e-04],\n",
              "       [9.99619628e-01, 3.80371841e-04],\n",
              "       [2.20453150e-04, 9.99779547e-01],\n",
              "       [5.62712650e-03, 9.94372873e-01],\n",
              "       [1.61286164e-04, 9.99838714e-01],\n",
              "       [9.98781708e-01, 1.21829166e-03],\n",
              "       [9.99659107e-01, 3.40893050e-04],\n",
              "       [9.99619899e-01, 3.80101267e-04],\n",
              "       [9.99395716e-01, 6.04283869e-04],\n",
              "       [9.95372040e-01, 4.62795958e-03],\n",
              "       [5.07921098e-03, 9.94920789e-01],\n",
              "       [9.99268634e-01, 7.31366450e-04],\n",
              "       [2.13113257e-04, 9.99786887e-01],\n",
              "       [3.30706540e-03, 9.96692935e-01],\n",
              "       [9.97136698e-01, 2.86330234e-03],\n",
              "       [1.70846251e-04, 9.99829154e-01],\n",
              "       [9.99429604e-01, 5.70395873e-04],\n",
              "       [1.27510724e-04, 9.99872489e-01],\n",
              "       [9.98982292e-01, 1.01770772e-03],\n",
              "       [9.99456072e-01, 5.43927699e-04],\n",
              "       [2.97895320e-04, 9.99702105e-01],\n",
              "       [7.32215252e-04, 9.99267785e-01],\n",
              "       [5.96020002e-04, 9.99403980e-01],\n",
              "       [9.99628761e-01, 3.71239212e-04],\n",
              "       [9.99632587e-01, 3.67412908e-04],\n",
              "       [9.96509248e-01, 3.49075175e-03],\n",
              "       [1.66702561e-04, 9.99833297e-01],\n",
              "       [9.99346995e-01, 6.53004533e-04],\n",
              "       [9.98801872e-01, 1.19812751e-03],\n",
              "       [1.50014781e-04, 9.99849985e-01],\n",
              "       [4.64619753e-04, 9.99535380e-01],\n",
              "       [8.56186078e-04, 9.99143814e-01],\n",
              "       [5.84232258e-04, 9.99415768e-01],\n",
              "       [9.98769368e-01, 1.23063186e-03],\n",
              "       [4.25441575e-04, 9.99574558e-01],\n",
              "       [9.97957621e-01, 2.04237896e-03],\n",
              "       [9.97094084e-01, 2.90591645e-03],\n",
              "       [4.92546755e-03, 9.95074532e-01],\n",
              "       [9.99173331e-01, 8.26669480e-04],\n",
              "       [9.96332516e-01, 3.66748360e-03],\n",
              "       [9.99601957e-01, 3.98042749e-04],\n",
              "       [9.96843822e-01, 3.15617798e-03],\n",
              "       [4.97119352e-03, 9.95028806e-01],\n",
              "       [8.31817228e-04, 9.99168183e-01],\n",
              "       [2.11144995e-04, 9.99788855e-01],\n",
              "       [9.99440415e-01, 5.59585078e-04],\n",
              "       [9.99391860e-01, 6.08139515e-04],\n",
              "       [9.99405783e-01, 5.94216624e-04],\n",
              "       [9.99274960e-01, 7.25040450e-04],\n",
              "       [6.71818841e-04, 9.99328181e-01],\n",
              "       [1.72408426e-04, 9.99827592e-01],\n",
              "       [1.84989799e-04, 9.99815010e-01],\n",
              "       [4.58530954e-03, 9.95414690e-01],\n",
              "       [9.99285089e-01, 7.14911190e-04],\n",
              "       [9.94975739e-01, 5.02426063e-03],\n",
              "       [9.97010808e-01, 2.98919188e-03],\n",
              "       [9.99354795e-01, 6.45204953e-04],\n",
              "       [9.99380015e-01, 6.19984790e-04],\n",
              "       [5.37793211e-03, 9.94622068e-01],\n",
              "       [9.99441149e-01, 5.58851030e-04],\n",
              "       [6.15986423e-04, 9.99384014e-01],\n",
              "       [9.99439054e-01, 5.60946397e-04],\n",
              "       [9.98956984e-01, 1.04301592e-03],\n",
              "       [5.47061534e-04, 9.99452938e-01],\n",
              "       [4.03766690e-03, 9.95962333e-01],\n",
              "       [4.74733275e-03, 9.95252667e-01]])"
            ]
          },
          "execution_count": 91,
          "metadata": {},
          "output_type": "execute_result"
        }
      ],
      "source": [
        "lgrr_model = LogisticRegression(solver = \"sag\" , max_iter = 20 , random_state = 54)\n",
        "lgrr_model.fit(x_train , y_train)\n",
        "y_hat = lgrr_model.predict(x_test)\n",
        "print(f\"predict : {y_hat} \\nreal :    {y_test}\")\n",
        "print(\"*************************************************************************************\")\n",
        "acc_test = lgrr_model.score(x_test , y_test)\n",
        "print(f\"acc_test = {acc_test}\")\n",
        "\n",
        "acc_train = lgrr_model.score(x_train , y_train)\n",
        "print(f\"acc_train = {acc_train}\")\n",
        "\n",
        "print(\"*************************************************************************************\")\n",
        "valid = 0\n",
        "invalid = 0\n",
        "for i in range(len(y_hat)):\n",
        "    if y_hat[i] == y_test[i]:\n",
        "        valid += 1\n",
        "    else:\n",
        "        invalid += 1\n",
        "print(f\"total = {len(x_test)} ,valid = {valid} ,invalid = {invalid}\")\n",
        "\n",
        "print(\"*************************************************************************************\")\n",
        "# Classification report\n",
        "class_report = classification_report(y_test, y_hat)\n",
        "print(\"Classification Report:\")\n",
        "print(class_report)\n",
        "\n",
        "print(\"*************************************************************************************\")\n",
        "lgrr_model.predict_proba(x_test)"
      ]
    },
    {
      "cell_type": "code",
      "execution_count": null,
      "id": "e3be1b3e-4b43-47e3-a705-d272048efd2e",
      "metadata": {
        "id": "e3be1b3e-4b43-47e3-a705-d272048efd2e",
        "outputId": "c3497b32-d205-49be-823b-716a6280ce26"
      },
      "outputs": [
        {
          "data": {
            "image/png": "[encoded data removed]",
            "text/plain": [
              "<Figure size 800x600 with 2 Axes>"
            ]
          },
          "metadata": {},
          "output_type": "display_data"
        }
      ],
      "source": [
        "# Confusion matrix\n",
        "conf_matrix = confusion_matrix(y_test, y_hat)\n",
        "plt.figure(figsize=(8, 6))\n",
        "plt.imshow(conf_matrix, cmap=plt.cm.Blues)\n",
        "plt.title('Confusion Matrix')\n",
        "plt.colorbar()\n",
        "plt.xlabel('Predicted Labels')\n",
        "plt.ylabel('True Labels')\n",
        "plt.show()"
      ]
    },
    {
      "cell_type": "code",
      "execution_count": null,
      "id": "7827a1ee-bf28-4204-be83-cd7e7908dc39",
      "metadata": {
        "id": "7827a1ee-bf28-4204-be83-cd7e7908dc39",
        "outputId": "5b87679f-b129-473b-cc80-b5bf0f45d904"
      },
      "outputs": [
        {
          "name": "stdout",
          "output_type": "stream",
          "text": [
            "best accuracy :1.0 , optimal epoch : 1\n",
            "[1.0, 1.0, 1.0, 1.0, 1.0, 1.0, 1.0, 1.0, 1.0, 1.0, 1.0, 1.0, 1.0, 1.0, 1.0, 1.0, 1.0, 1.0, 1.0, 1.0, 1.0, 1.0, 1.0, 1.0, 1.0]\n"
          ]
        },
        {
          "data": {
            "text/plain": [
              "<matplotlib.legend.Legend at 0x7f05332282f0>"
            ]
          },
          "execution_count": 93,
          "metadata": {},
          "output_type": "execute_result"
        },
        {
          "data": {
            "image/png": "[encoded data removed]",
            "text/plain": [
              "<Figure size 640x480 with 1 Axes>"
            ]
          },
          "metadata": {},
          "output_type": "display_data"
        }
      ],
      "source": [
        "Epoch = 25\n",
        "best_acc = 0\n",
        "optimal_epoch = 0\n",
        "acc_history = []\n",
        "for i in range(1,Epoch+1):\n",
        "    lgrr_model = LogisticRegression(solver = \"sag\" , max_iter = i , random_state = 54)\n",
        "    lgrr_model.fit(x_train , y_train)\n",
        "    acc = lgrr_model.score(x_test , y_test)\n",
        "    acc_history.append( acc)\n",
        "    if acc > best_acc :\n",
        "        best_acc = acc\n",
        "        optimal_epoch = i\n",
        "\n",
        "print(f\"best accuracy :{best_acc} , optimal epoch : {optimal_epoch}\")\n",
        "print(acc_history)\n",
        "plt.plot(acc_history, marker='o', color='red',label='acc')\n",
        "plt.xlabel('Iterations')\n",
        "plt.title('Accuracy')\n",
        "plt.grid(True)\n",
        "plt.legend()"
      ]
    },
    {
      "cell_type": "code",
      "execution_count": null,
      "id": "6e2800d2-7013-48cd-9379-1004a56972b1",
      "metadata": {
        "id": "6e2800d2-7013-48cd-9379-1004a56972b1",
        "outputId": "68fab67a-4dfc-4ea7-c11a-00c7998a496e"
      },
      "outputs": [
        {
          "data": {
            "image/png": "[encoded data removed]",
            "text/plain": [
              "<Figure size 1000x600 with 1 Axes>"
            ]
          },
          "metadata": {},
          "output_type": "display_data"
        }
      ],
      "source": [
        "# Epoch\n",
        "Epoch = 7\n",
        "\n",
        "# Solvers to compare\n",
        "solvers = [\"liblinear\", \"newton-cg\", \"lbfgs\", \"sag\", \"saga\"]\n",
        "#solvers = [\"liblinear\", \"newton-cg\", \"lbfgs\", \"sag\", \"saga\"]\n",
        "\n",
        "# Dictionary to store accuracy history for each solver\n",
        "acc_histories = {solver: [] for solver in solvers}\n",
        "\n",
        "# Train models for each solver and record accuracy history\n",
        "for solver in solvers:\n",
        "    best_acc = 0\n",
        "    for i in range(Epoch):\n",
        "        lgrr_model = LogisticRegression(solver=solver, max_iter=i, random_state=54)\n",
        "        lgrr_model.fit(x_train, y_train)\n",
        "        acc = lgrr_model.score(x_test, y_test)\n",
        "        acc_histories[solver].append(acc)\n",
        "        if acc > best_acc:\n",
        "            best_acc = acc\n",
        "\n",
        "# Plot accuracy history for each solver\n",
        "plt.figure(figsize=(10, 6))\n",
        "for solver in solvers:\n",
        "    plt.plot(range(Epoch), acc_histories[solver], marker='o' ,label=solver)\n",
        "\n",
        "plt.title('Accuracy over Iterations for Different Solvers')\n",
        "plt.xlabel('Iterations')\n",
        "plt.ylabel('Accuracy')\n",
        "plt.grid(True)\n",
        "plt.legend()\n",
        "plt.show()"
      ]
    }
  ],
  "metadata": {
    "kernelspec": {
      "display_name": "Python 3 (ipykernel)",
      "language": "python",
      "name": "python3"
    },
    "language_info": {
      "codemirror_mode": {
        "name": "ipython",
        "version": 3
      },
      "file_extension": ".py",
      "mimetype": "text/x-python",
      "name": "python",
      "nbconvert_exporter": "python",
      "pygments_lexer": "ipython3",
      "version": "3.12.2"
    },
    "colab": {
      "provenance": [],
      "collapsed_sections": [
        "f49ac570-e3fd-446a-9699-c4842b44e6f6",
        "329ad021-39f0-4879-8a75-52ec0a1ed15c",
        "9dfceb2d-d3e8-429a-8bfc-21d03f93e412",
        "936713e8-e70f-4238-9d0a-d311f61d87cc",
        "c374d247-30d5-48aa-a8b4-a2d01221b11a"
      ],
      "include_colab_link": true
    }
  },
  "nbformat": 4,
  "nbformat_minor": 5
}